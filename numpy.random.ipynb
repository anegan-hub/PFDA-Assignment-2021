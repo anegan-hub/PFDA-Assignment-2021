{
 "cells": [
  {
   "cell_type": "markdown",
   "id": "7c43be56-f26f-44ed-b43e-b11501d811e8",
   "metadata": {},
   "source": [
    "\n",
    "\n",
    "# Information on the numpy.random package\n",
    " Reference; NumPy v1.21 Manual: https://numpy.org/doc/stable/reference/random/index.html[1]\n",
    "\n",
    "![This is an image](https://upload.wikimedia.org/wikipedia/commons/thumb/3/31/NumPy_logo_2020.svg/512px-NumPy_logo_2020.svg.png)\n",
    "<br>\n"
   ]
  },
  {
   "cell_type": "markdown",
   "id": "12436b5b-1c12-4138-9ec1-1808beb92ff1",
   "metadata": {},
   "source": [
    "\n",
    "## **The overall purpose of the package**\n",
    "***"
   ]
  },
  {
   "cell_type": "markdown",
   "id": "ab0c2b65-450a-4b18-be9b-9ce0844144b2",
   "metadata": {},
   "source": [
    "   Numpy.random is a sub package of the Numpy Library. There are two combinations **Bit Generator** and **Generator**. This notebook will mainly focus on **Generator**. The package is used for generating sample random numerical data, shuffles existing data and draws samples based on a specified distribution. <br>\n",
    "\n",
    "I will be running through the following functions of numpy.random;<br> \n",
    "   - Simple random data \n",
    "   - Permutations \n",
    "   - A selection of Distributions\n",
    "   - Seed function <br>"
   ]
  },
  {
   "cell_type": "markdown",
   "id": "2ef6a7b2-c8d6-4964-915d-458e3a257c9d",
   "metadata": {},
   "source": [
    "## **Simple random data**\n",
    "***"
   ]
  },
  {
   "cell_type": "markdown",
   "id": "9d74e3bd-c471-4500-be35-5e22f3a0a8a7",
   "metadata": {},
   "source": [
    "Simple random data consists of the following; \n",
    "\n",
    "- *integers* \n",
    "- *random*\n",
    "- *choice*\n",
    "- *bytes*\n",
    "<br>"
   ]
  },
  {
   "cell_type": "markdown",
   "id": "f3ee7ace-98b2-490a-bbb2-e9dffdb6ecb4",
   "metadata": {},
   "source": [
    "Lets start with **integers**; returns random integers from low(incusive) to high (exclusive) or if endpoint=true, low (inclusive to high (inclusive).[[2]]( https://numpy.org/doc/stable/reference/random/generated/numpy.random.Generator.integers) "
   ]
  },
  {
   "cell_type": "code",
   "execution_count": 1,
   "id": "46e474cc-fa3c-42b7-be15-2bb011b82882",
   "metadata": {},
   "outputs": [],
   "source": [
    "# Importing libraries \n",
    "import numpy as np \n",
    "%matplotlib inline \n",
    "import matplotlib.pyplot as plt"
   ]
  },
  {
   "cell_type": "code",
   "execution_count": 2,
   "id": "1e8f1e5c-ef62-497b-b873-67d0382c3d6f",
   "metadata": {},
   "outputs": [
    {
     "name": "stdout",
     "output_type": "stream",
     "text": [
      "Output: [0 2 4 4 5 4 1 5 4 3]\n"
     ]
    }
   ],
   "source": [
    "# creating a varible \n",
    "rng = np.random.default_rng() # random generator\n",
    "#creating varible (x), inputting arguement(10)\n",
    "x = rng.integers(6, size=10) # generates an array size of 10 between 0-6 but not including 6\n",
    "print(\"Output:\",x) "
   ]
  },
  {
   "cell_type": "markdown",
   "id": "eac4315e-e4bf-4054-ba5c-acfa5b038bb7",
   "metadata": {},
   "source": [
    "                Visualization using a histogram            "
   ]
  },
  {
   "cell_type": "code",
   "execution_count": 3,
   "id": "01a1b9db-9b9b-4649-97eb-45b16b9b6a2f",
   "metadata": {},
   "outputs": [
    {
     "data": {
      "text/plain": [
       "Text(0.5, 1.0, 'Sample data (1)')"
      ]
     },
     "execution_count": 3,
     "metadata": {},
     "output_type": "execute_result"
    },
    {
     "data": {
      "image/png": "[encoded data removed]",
      "text/plain": [
       "<Figure size 432x288 with 1 Axes>"
      ]
     },
     "metadata": {
      "needs_background": "light"
     },
     "output_type": "display_data"
    }
   ],
   "source": [
    "# plotting histogram\n",
    "plt.hist (x)\n",
    "plt.xlabel('Integer')\n",
    "plt.ylabel('Occurrences')\n",
    "plt.title ('Sample data (1)')"
   ]
  },
  {
   "cell_type": "code",
   "execution_count": 4,
   "id": "b36e96b1-e78b-441c-969e-0c531005df21",
   "metadata": {},
   "outputs": [
    {
     "name": "stdout",
     "output_type": "stream",
     "text": [
      "Output: [84 45 99 ... 53 30 37]\n"
     ]
    },
    {
     "data": {
      "text/plain": [
       "Text(0.5, 1.0, 'Sample data (2)')"
      ]
     },
     "execution_count": 4,
     "metadata": {},
     "output_type": "execute_result"
    },
    {
     "data": {
      "image/png": "[encoded data removed]",
      "text/plain": [
       "<Figure size 432x288 with 1 Axes>"
      ]
     },
     "metadata": {
      "needs_background": "light"
     },
     "output_type": "display_data"
    }
   ],
   "source": [
    "x = rng.integers(100, size=100000) # generates an array size of 100 between 0-100 but not including 100\n",
    "print(\"Output:\",x) \n",
    "#histogram\n",
    "plt.hist (x)\n",
    "plt.xlabel('Integer')\n",
    "plt.ylabel('Occurrences')\n",
    "plt.title ('Sample data (2)')"
   ]
  },
  {
   "cell_type": "markdown",
   "id": "30867ec4-1ce9-4fd2-9253-77cc40498f43",
   "metadata": {},
   "source": [
    "When using the integar function, as you can see it outputs a random number from low(inclusive - 0)to high(exclusive -100).In the above examples I have input the argument of both 6 and 100 also changing the array on each histogram to show a clear comparison of small to larger values. please note the larger sample of data shown on the plot is what we know to be a Discrete Uniform Distribution .<br>"
   ]
  },
  {
   "cell_type": "markdown",
   "id": "78aa56cf-1964-4c8f-8f34-cb3f15670b70",
   "metadata": {},
   "source": [
    "*Generating more than one array with upper and lower bounds* [[2]](https://numpy.org/doc/stable/reference/random/generated/numpy.random.Generator.integers)\n"
   ]
  },
  {
   "cell_type": "code",
   "execution_count": 5,
   "id": "8508aba6-9455-41fd-b86b-4b3533a3477e",
   "metadata": {},
   "outputs": [
    {
     "name": "stdout",
     "output_type": "stream",
     "text": [
      "Output: [[4 2]\n",
      " [4 2]\n",
      " [4 0]]\n"
     ]
    }
   ],
   "source": [
    "x = rng.integers(6, size=(3, 2)) # 3 arrays to include 2 integers between 0-6 exclusive of 6\n",
    "print(\"Output:\",(x)) "
   ]
  },
  {
   "cell_type": "markdown",
   "id": "07e55526-db01-440f-852b-7ecfdef95ddc",
   "metadata": {},
   "source": [
    "Generate a 1 x 3 array with 3 different upper bounds"
   ]
  },
  {
   "cell_type": "code",
   "execution_count": 6,
   "id": "4484e318-c24c-47a0-ab86-1547daf4b0fa",
   "metadata": {},
   "outputs": [
    {
     "name": "stdout",
     "output_type": "stream",
     "text": [
      "Output: [1 2 1]\n"
     ]
    }
   ],
   "source": [
    "x = rng.integers(1, [3, 5, 10])\n",
    "print(\"Output:\",(x)) "
   ]
  },
  {
   "cell_type": "markdown",
   "id": "1b6abc71-956e-4aea-99fb-b4876116c68e",
   "metadata": {},
   "source": [
    "Generate a 1 by 3 array with 3 different lower bounds"
   ]
  },
  {
   "cell_type": "code",
   "execution_count": 7,
   "id": "c7bb1bc1-aa19-4c7f-be9f-5dab23418c33",
   "metadata": {},
   "outputs": [
    {
     "name": "stdout",
     "output_type": "stream",
     "text": [
      "Output: [3 5 7]\n"
     ]
    }
   ],
   "source": [
    "x = rng.integers([1, 5, 7], 10)\n",
    "print(\"Output:\",(x)) "
   ]
  },
  {
   "cell_type": "markdown",
   "id": "c8993937-fcda-4c4d-850a-c9a7a9d00779",
   "metadata": {},
   "source": [
    "Generate a 2 by 4 array using broadcasting with dtype of uint8"
   ]
  },
  {
   "cell_type": "code",
   "execution_count": 8,
   "id": "3d4727a4-9367-4653-a3ed-171411f38580",
   "metadata": {},
   "outputs": [
    {
     "name": "stdout",
     "output_type": "stream",
     "text": [
      "Output: [[ 6  7  6  9]\n",
      " [ 2 13 19 13]]\n"
     ]
    }
   ],
   "source": [
    "x = rng.integers([1, 3, 5, 7], [[10], [20]], dtype=np.uint8)\n",
    "print(\"Output:\",(x)) "
   ]
  },
  {
   "cell_type": "markdown",
   "id": "9fedffcb-eebe-4592-b8b1-0772eb84bd0a",
   "metadata": {},
   "source": [
    "<br>"
   ]
  },
  {
   "cell_type": "markdown",
   "id": "fc33ab88-5a92-4552-80d8-44d5de253848",
   "metadata": {},
   "source": [
    "**Random**\n",
    "\n",
    "***"
   ]
  },
  {
   "cell_type": "markdown",
   "id": "f7ac6195-8535-46bc-aa0e-5683e50e1faf",
   "metadata": {},
   "source": [
    "Random return random floats in the half-open interval (0.0, 1.0). [[3]](https://numpy.org/doc/stable/reference/random/generated/numpy.random.Generator.random)"
   ]
  },
  {
   "cell_type": "code",
   "execution_count": 9,
   "id": "8aaff5ee-c89d-4734-9c57-dbc3f3d879e2",
   "metadata": {},
   "outputs": [
    {
     "data": {
      "text/plain": [
       "0.39066915569701655"
      ]
     },
     "execution_count": 9,
     "metadata": {},
     "output_type": "execute_result"
    }
   ],
   "source": [
    "rng = np.random.default_rng() # random generator \n",
    "rng.random() # outputs a random floating number"
   ]
  },
  {
   "cell_type": "markdown",
   "id": "76667f8f-62fc-45ee-bab7-00e8fd11bf44",
   "metadata": {},
   "source": [
    "Passing an argument; to  generate two arrays, 5 rows , 1 column of random floating numbers   "
   ]
  },
  {
   "cell_type": "code",
   "execution_count": 10,
   "id": "b7e2054f-a30b-4df8-a1f3-585a60f7034d",
   "metadata": {},
   "outputs": [
    {
     "data": {
      "text/plain": [
       "array([[[0.70036362],\n",
       "        [0.6393038 ],\n",
       "        [0.66667169],\n",
       "        [0.32407114],\n",
       "        [0.69837172]],\n",
       "\n",
       "       [[0.84529572],\n",
       "        [0.42175447],\n",
       "        [0.46564241],\n",
       "        [0.90742433],\n",
       "        [0.56596791]]])"
      ]
     },
     "execution_count": 10,
     "metadata": {},
     "output_type": "execute_result"
    }
   ],
   "source": [
    "rng.random ((2, 5, 1))"
   ]
  },
  {
   "cell_type": "markdown",
   "id": "621c09d3-376f-4f09-b121-0c2fb07126ec",
   "metadata": {},
   "source": [
    "Passing an argument; to generate two arrays, 5 rows , 1 column of random floating numbers from -5 to 0 [[3]](https://numpy.org/doc/stable/reference/random/generated/numpy.random.Generator.random)"
   ]
  },
  {
   "cell_type": "code",
   "execution_count": 11,
   "id": "6446a8b5-f5ae-4118-bbdd-3cab8165870b",
   "metadata": {},
   "outputs": [],
   "source": [
    " x = 5 * rng.random((2, 5, 1)) - 5"
   ]
  },
  {
   "cell_type": "markdown",
   "id": "376c2e6d-059d-413f-87f0-e726946e27cd",
   "metadata": {},
   "source": [
    "<br>"
   ]
  },
  {
   "cell_type": "markdown",
   "id": "6eb22af4-3458-4a02-ae34-32c9da52b122",
   "metadata": {},
   "source": [
    "**Choice**\n",
    "\n",
    "***\n"
   ]
  },
  {
   "cell_type": "markdown",
   "id": "c2e925d6-e53a-4855-9202-15a2055eb376",
   "metadata": {},
   "source": [
    "Choice generates a random sample from a give array whether it be uniform or non uniform. [[4]](https://numpy.org/doc/stable/reference/random/generated/numpy.random.Generator.choice) This function picks a random value from a list of values. "
   ]
  },
  {
   "cell_type": "code",
   "execution_count": 12,
   "id": "e616c8c8-b221-46e1-9ecf-b098d6a4d620",
   "metadata": {},
   "outputs": [
    {
     "data": {
      "text/plain": [
       "array([0, 3, 4], dtype=int64)"
      ]
     },
     "execution_count": 12,
     "metadata": {},
     "output_type": "execute_result"
    }
   ],
   "source": [
    "#uniform sample\n",
    "rng = np.random.default_rng() # random generator \n",
    "rng.choice (5,3)#Generate a uniform random sample from np.arange(5) of size 3:"
   ]
  },
  {
   "cell_type": "markdown",
   "id": "b6a41087-a604-407a-a050-6252299ec24b",
   "metadata": {},
   "source": [
    "Setting probability - from the sample below you can see between 0-4 (using 5 as the argument)the integar 1 is not likely to be selected, integars 2 and 4 are less likely to be selected compared to that of 0 and 3. "
   ]
  },
  {
   "cell_type": "code",
   "execution_count": 13,
   "id": "d6f79286-f418-437b-8f70-233f1aec7bd7",
   "metadata": {},
   "outputs": [
    {
     "data": {
      "text/plain": [
       "array([3, 2, 3], dtype=int64)"
      ]
     },
     "execution_count": 13,
     "metadata": {},
     "output_type": "execute_result"
    }
   ],
   "source": [
    "#non-uniform sample (p - must equal 1.0 as here we set the probability)\n",
    "rng.choice(5,3, p=[0.3, 0, 0.1, 0.5, 0.1])#Generate a non-uniform random sample from np.arange(5) of size 3:"
   ]
  },
  {
   "cell_type": "markdown",
   "id": "77db7f2d-effc-4e56-be45-b0cf26875045",
   "metadata": {},
   "source": [
    "You can also use the choice function when using the following type of list; "
   ]
  },
  {
   "cell_type": "code",
   "execution_count": 14,
   "id": "3e1a239c-5d69-43c7-8599-e267225a07c6",
   "metadata": {},
   "outputs": [
    {
     "data": {
      "text/plain": [
       "array([[['pooh', 'Christopher', 'rabbit'],\n",
       "        ['rabbit', 'Christopher', 'pooh'],\n",
       "        ['pooh', 'pooh', 'rabbit']],\n",
       "\n",
       "       [['Christopher', 'rabbit', 'Christopher'],\n",
       "        ['Christopher', 'Christopher', 'piglet'],\n",
       "        ['rabbit', 'pooh', 'Christopher']],\n",
       "\n",
       "       [['piglet', 'rabbit', 'pooh'],\n",
       "        ['pooh', 'pooh', 'Christopher'],\n",
       "        ['Christopher', 'rabbit', 'Christopher']]], dtype='<U11')"
      ]
     },
     "execution_count": 14,
     "metadata": {},
     "output_type": "execute_result"
    }
   ],
   "source": [
    "aa_milne_arr = ['pooh', 'rabbit', 'piglet', 'Christopher']\n",
    "rng.choice(aa_milne_arr, size= (3,3,3)) # printing list to include 3 columns, rows and sets "
   ]
  },
  {
   "cell_type": "markdown",
   "id": "5f76ae0e-124e-4f82-bbf3-b5e33cc18e99",
   "metadata": {},
   "source": [
    "<br>"
   ]
  },
  {
   "cell_type": "markdown",
   "id": "c6adcca8-0c4f-4693-94cc-27c3017e2f0a",
   "metadata": {},
   "source": [
    "**Bytes** [[18]](https://numpy.org/doc/stable/reference/random/generated/numpy.random.bytes)\n",
    "\n",
    "***"
   ]
  },
  {
   "cell_type": "markdown",
   "id": "880a3d1c-f0b1-4810-b4a4-8d7b357e7bd9",
   "metadata": {},
   "source": [
    "Bytes function returns random bytes."
   ]
  },
  {
   "cell_type": "code",
   "execution_count": 15,
   "id": "158a9101-1e5f-4e19-ad6e-da2603600005",
   "metadata": {},
   "outputs": [
    {
     "name": "stdout",
     "output_type": "stream",
     "text": [
      "Output: b'\\x89\\xed\\xefQ\\xe3\\xd6\\xca=\\xd8\\xc0'\n"
     ]
    }
   ],
   "source": [
    "# Returns random bytes \n",
    "x = np.random.bytes(10)\n",
    "print(\"Output:\", x) # string of length "
   ]
  },
  {
   "cell_type": "markdown",
   "id": "95f532bb-39eb-4125-acc1-bca16fcf9d79",
   "metadata": {},
   "source": [
    "<br>"
   ]
  },
  {
   "cell_type": "markdown",
   "id": "bf984ed1-106e-443c-a104-84ab01fc6b2c",
   "metadata": {},
   "source": [
    "## Permutations\n",
    "\n",
    "***"
   ]
  },
  {
   "cell_type": "markdown",
   "id": "711ed86c-59b1-4d7f-8cc5-8ba66c8d979f",
   "metadata": {},
   "source": [
    "**Shuffle**\n"
   ]
  },
  {
   "cell_type": "markdown",
   "id": "89b011b8-2ffa-41b7-b06b-30d358b9e18c",
   "metadata": {},
   "source": [
    "Modify an array or sequence in-place by shuffling its contents [[5]]([10]https://numpy.org/doc/stable/reference/random/generated/numpy.random.Generator.choice.html)"
   ]
  },
  {
   "cell_type": "code",
   "execution_count": 16,
   "id": "173b89cf-1c8e-4496-937d-5ba4cefc2026",
   "metadata": {},
   "outputs": [
    {
     "name": "stdout",
     "output_type": "stream",
     "text": [
      "Output: [0 8 3 2 4 5 6 1 7 9]\n"
     ]
    }
   ],
   "source": [
    "# shuffle intergar between 0-9\n",
    "rng = np.random.default_rng() #random generator \n",
    "arr = np.arange(10) # value 10\n",
    "rng.shuffle(arr) # shuffles array \n",
    "print (\"Output:\", arr)"
   ]
  },
  {
   "cell_type": "code",
   "execution_count": 17,
   "id": "1cdddd16-1f74-4ce0-952c-eca45772addd",
   "metadata": {},
   "outputs": [
    {
     "name": "stdout",
     "output_type": "stream",
     "text": [
      "Output: [[2 0 1]\n",
      " [5 3 4]\n",
      " [8 6 7]]\n"
     ]
    }
   ],
   "source": [
    "#Using reshape and axis \n",
    "arr = np.arange(9). reshape((3,3))\n",
    "rng.shuffle(arr, axis = 1)\n",
    "print (\"Output:\",arr)"
   ]
  },
  {
   "cell_type": "markdown",
   "id": "742e4f31-d9e3-4994-b83e-30d45a5caf28",
   "metadata": {},
   "source": [
    "Above by using \"reshape\" provides you with an array, here an array of 3. When the \"axis\" is included this will display in order of integar array, i.e lowest integars will always appear within the first array. "
   ]
  },
  {
   "cell_type": "markdown",
   "id": "6a979ed3-f129-4a61-b1db-c48b0eb6350b",
   "metadata": {},
   "source": [
    "<br>"
   ]
  },
  {
   "cell_type": "markdown",
   "id": "927845b3-4ba9-4c6d-9f11-a9f29c7a141e",
   "metadata": {},
   "source": [
    "**Permutations**\n",
    "\n",
    "***"
   ]
  },
  {
   "cell_type": "markdown",
   "id": "6752608c-1942-40e6-8ed6-7f00fd5fbefc",
   "metadata": {},
   "source": [
    "Randomly permute a sequence, or return a permuted range.[[6]](https://numpy.org/doc/stable/reference/random/generated/numpy.random.Generator.permutation.html)\n"
   ]
  },
  {
   "cell_type": "code",
   "execution_count": 18,
   "id": "b28592bf-4194-4a02-b055-18e899f89bbe",
   "metadata": {},
   "outputs": [
    {
     "name": "stdout",
     "output_type": "stream",
     "text": [
      "Output: [2 8 7 6 4 1 3 0 5 9]\n"
     ]
    }
   ],
   "source": [
    "#sequence range \n",
    "rng = np.random.default_rng() #random generator \n",
    "p = rng.permutation(10) #array of 10 integars between 0-9 which are arranged in several possible ways when re-run\n",
    "print (\"Output:\", p)"
   ]
  },
  {
   "cell_type": "code",
   "execution_count": 19,
   "id": "7f39d6af-0a1a-4699-b2b5-cddf572b0041",
   "metadata": {},
   "outputs": [
    {
     "name": "stdout",
     "output_type": "stream",
     "text": [
      "output: [ 1 16  2  5]\n"
     ]
    }
   ],
   "source": [
    "#permuted range \n",
    "rng = np.random.default_rng() # random generator\n",
    "p = rng.permutation([1, 2, 16, 5]) #array given \n",
    "print (\"output:\", p)"
   ]
  },
  {
   "cell_type": "markdown",
   "id": "ef6fef3b-dc28-4e91-b7fe-f780ee5178df",
   "metadata": {},
   "source": [
    "<br>"
   ]
  },
  {
   "cell_type": "markdown",
   "id": "21c45feb-a699-4958-97c8-60d377a0440e",
   "metadata": {},
   "source": [
    "\n",
    "## **Distributions**\n",
    "\n",
    "***"
   ]
  },
  {
   "cell_type": "markdown",
   "id": "a2201f12-74f6-46bd-9d70-3d09c19555b5",
   "metadata": {},
   "source": [
    "**Normal Distribution** [[7]](https://ch.mathworks.com/help/stats/normal-distribution.html) [[9]](https://www.youtube.com/watch?v=mtbJbDwqWLE)"
   ]
  },
  {
   "cell_type": "markdown",
   "id": "0c42eb26-48e7-4bb1-9fad-07cfd4fd78ed",
   "metadata": {},
   "source": [
    "The normal distribution is one of the most commonly used distributions as it arises in many different variables in nature, take  height and weight as examples. It is also known as the bell shape curve because of it's characteristic shape, and as the Gaussian Distribution after **Johann Carl Friedrich Gauss** the german mathematician."
   ]
  },
  {
   "cell_type": "markdown",
   "id": "f5b526fd-41c6-4a23-9433-7082550ea034",
   "metadata": {},
   "source": [
    "It it made up of three Parameters: \n",
    "\n",
    "- **Mean** (centre of the distribution )\n",
    "- **Standard Deviation** (spread or width of the distribution) \n",
    "- **Output shape** ( sample - array ) \n",
    "\n",
    "Note the normal distribution is symmetric about the mean (mirror effect), with the mean determining the position of same. \n",
    "If a distribution differs to this, it is not a normal distribution. The larger the value the likely outcome of a normal distribution. The bell shape curve must also be in line with the Empirical Rule; 68.95.99.7 percentile. An Example of this will be shown below. "
   ]
  },
  {
   "cell_type": "markdown",
   "id": "3002e568-6dbf-4659-8894-cc75f379d6a6",
   "metadata": {},
   "source": [
    "Also noting the formula seen below \"**mu**\" equals Mean and \"**sigma**\" equals Standard Deviation \n"
   ]
  },
  {
   "cell_type": "markdown",
   "id": "9f2a1c73-15c8-4962-a440-320ed8d4143e",
   "metadata": {},
   "source": [
    "Formula:"
   ]
  },
  {
   "cell_type": "markdown",
   "id": "b3c3dea0-7e9b-437f-9352-bf442589d179",
   "metadata": {},
   "source": [
    "<img src=\"Images/nd.PNG\" width=250 height=250/>"
   ]
  },
  {
   "cell_type": "markdown",
   "id": "362630a4-a1c0-4b87-9b10-282deebc866f",
   "metadata": {},
   "source": [
    "Let's take a look at a sample based on variable; height, using histogram illustrations through the liabrary Seaborn:"
   ]
  },
  {
   "cell_type": "code",
   "execution_count": 20,
   "id": "9ca83ed7-405b-4640-9637-639d10c25bac",
   "metadata": {},
   "outputs": [
    {
     "name": "stdout",
     "output_type": "stream",
     "text": [
      "Output: [4.05495768 4.42543094 5.16766146 5.34394732 3.74447799]\n"
     ]
    },
    {
     "data": {
      "text/plain": [
       "Text(0, 0.5, 'Frequency')"
      ]
     },
     "execution_count": 20,
     "metadata": {},
     "output_type": "execute_result"
    },
    {
     "data": {
      "image/png": "[encoded data removed]",
      "text/plain": [
       "<Figure size 432x288 with 1 Axes>"
      ]
     },
     "metadata": {
      "needs_background": "light"
     },
     "output_type": "display_data"
    }
   ],
   "source": [
    "import seaborn as sns \n",
    "\n",
    "mu , sigma = (5, 1) # setting mean and standard deviation \n",
    "d = np.random.normal(mu, sigma, 5) #generating 5 values for set mu and sigma\n",
    "                     \n",
    "print (\"Output:\", d) \n",
    "\n",
    "# creating seaborn histogram plot\n",
    "sns.histplot(d)\n",
    "plt.title (\" Sample - Height\")\n",
    "plt.xlabel(\"Standard Deviation\")\n",
    "plt.ylabel (\"Frequency\")"
   ]
  },
  {
   "cell_type": "markdown",
   "id": "be24535b-0425-4847-8cb2-5470986930b7",
   "metadata": {},
   "source": [
    "Looking at the plot above, taking the height of a population of 5, with 1 stardard deviation being 1 and the set average of 5 we can see the plot shows each person varying in height confirming the data is not a normal distribution, however when the values increase it tells another story:"
   ]
  },
  {
   "cell_type": "code",
   "execution_count": 21,
   "id": "39678a97-d4cb-43bc-89b6-6053602adff6",
   "metadata": {},
   "outputs": [
    {
     "name": "stdout",
     "output_type": "stream",
     "text": [
      "Output: [5.55045859 5.0928057  5.74705185 ... 5.4705274  5.72006091 5.14779772]\n"
     ]
    },
    {
     "data": {
      "text/plain": [
       "Text(0, 0.5, 'Frequency')"
      ]
     },
     "execution_count": 21,
     "metadata": {},
     "output_type": "execute_result"
    },
    {
     "data": {
      "image/png": "[encoded data removed]",
      "text/plain": [
       "<Figure size 432x288 with 1 Axes>"
      ]
     },
     "metadata": {
      "needs_background": "light"
     },
     "output_type": "display_data"
    }
   ],
   "source": [
    "mu , sigma = (5.5, 0.5) # setting mean and standard deviation \n",
    "d = np.random.normal(mu, sigma, 20000) #generating 20000 values for set mu and sigma\n",
    "print (\"Output:\", d) \n",
    "\n",
    "# creating seaborn histogram plot\n",
    "sns.histplot(d, bins = 20, kde = True, color=\"green\") # kde - adding curve line, bins and label) \n",
    "plt.title (\" Sample - Height\")\n",
    "plt.xlabel(\"Standard Deviation\")\n",
    "plt.ylabel (\"Frequency\")"
   ]
  },
  {
   "cell_type": "markdown",
   "id": "6dd9379c-8b0e-4515-93a9-5738588e4efb",
   "metadata": {},
   "source": [
    "On the plot shown above I have increased the value to over 20k people setting the the mean to 5.5 with a standard deviation of 0.5. The ploy now shows a clear normal distribution; the data is clustered around the mean with the remaining data tappering off on either side. Here we can see the average height within a large size of the population is in or around 5.5 feet. "
   ]
  },
  {
   "cell_type": "markdown",
   "id": "b967e126-ee57-4ca0-ab82-645f55e36d1c",
   "metadata": {},
   "source": [
    "**Empirical Rule**: [[8]](https://en.wikipedia.org/wiki/68%E2%80%9395%E2%80%9399.7_rule)"
   ]
  },
  {
   "cell_type": "markdown",
   "id": "053aa34a-30b7-4863-9e03-15d2c6607c46",
   "metadata": {},
   "source": [
    "In statistics, the 68–95–99.7 rule, also known as the empirical rule, is a shorthand used to remember the percentage of values that lie within an interval estimate in a normal distribution: 68%, 95%, and 99.7% of the values lie within one, two, and three standard deviations of the mean, respectively."
   ]
  },
  {
   "cell_type": "markdown",
   "id": "d1d0282a-5476-4265-9d72-1c8fe294b97c",
   "metadata": {},
   "source": [
    "Lets take a look in the following example; "
   ]
  },
  {
   "cell_type": "code",
   "execution_count": 22,
   "id": "0a0caf5b-d3ca-4fdc-b188-58250059b295",
   "metadata": {},
   "outputs": [
    {
     "name": "stdout",
     "output_type": "stream",
     "text": [
      "Output: [5.83811417 4.84370266 4.76896112 ... 5.33561633 5.58144665 5.1249798 ]\n"
     ]
    },
    {
     "data": {
      "text/plain": [
       "Text(0, 0.5, 'Frequency')"
      ]
     },
     "execution_count": 22,
     "metadata": {},
     "output_type": "execute_result"
    },
    {
     "data": {
      "image/png": "[encoded data removed]",
      "text/plain": [
       "<Figure size 432x288 with 1 Axes>"
      ]
     },
     "metadata": {
      "needs_background": "light"
     },
     "output_type": "display_data"
    }
   ],
   "source": [
    "mu , sigma = (5.5, 0.5) # setting mean and standard deviation \n",
    "d = np.random.normal(mu, sigma, 20000) #generating 20000 values for set mu and sigma\n",
    "print (\"Output:\", d) \n",
    "\n",
    "# creating seaborn histogram plot\n",
    "sns.histplot(d) # kde - adding curve line, bins and label) \n",
    "\n",
    "#creating vertical lines for mean and standard deviation distributions on either side of mean \n",
    "plt.axvline(np.mean(d) + np.std(d), color =\"r\") \n",
    "plt.axvline(np.mean(d) - np.std(d), color =\"r\")\n",
    "plt.axvline(np.mean(d) + np.std(d)*2, color =\"g\")\n",
    "plt.axvline(np.mean(d) - np.std(d)*2, color =\"g\")\n",
    "plt.axvline(np.mean(d) + np.std(d)*3, color =\"b\")\n",
    "plt.axvline(np.mean(d) - np.std(d)*3, color =\"b\")\n",
    "#creating title and labels  \n",
    "plt.title (\" Sample - Height\")\n",
    "plt.xlabel(\"Standard Deviation\")\n",
    "plt.ylabel (\"Frequency\")"
   ]
  },
  {
   "cell_type": "markdown",
   "id": "d601400c-440c-46c1-b9ac-d6884a74d9fe",
   "metadata": {},
   "source": [
    "From the above plot above we can see the distrubition by 1, 2 and 3 standard deviations away from the mean. The rule stats the following;  "
   ]
  },
  {
   "cell_type": "markdown",
   "id": "0bb63942-6f6f-4ff2-888a-5df2b6f48ed6",
   "metadata": {},
   "source": [
    "- **68%** must sit within one deviation from the mean ( this is represented on the plot between the <span style='color:red'> red </span> vertical lines ) \n",
    "- **95%** must sit within two deviations from the mean (this is represented on the plot between the <span style='color:green'> green </span>  vertical lines ) \n",
    "- **99.7%** must sit within three deviations from the mean (this is represented on the plot between the<span style='color:blue'> blue </span> vertical lines )\n",
    "\n",
    "Everything else that falls outside of this is extermely small, continuing to infinity."
   ]
  },
  {
   "cell_type": "markdown",
   "id": "ee1d22c8-a98d-4303-a14a-5b24bae17a41",
   "metadata": {},
   "source": [
    "<br>"
   ]
  },
  {
   "cell_type": "markdown",
   "id": "abf3b88c-0619-4b16-ad22-7f538b4e951a",
   "metadata": {},
   "source": [
    "\n",
    "**Binomial Distribution**\n",
    "\n",
    "***\n",
    "<br>"
   ]
  },
  {
   "cell_type": "markdown",
   "id": "6764625d-6df6-443f-9dbe-721e3ebf8ea7",
   "metadata": {},
   "source": [
    "The Binomial Distribution containes two specified parameters; $n$ (trials) and $p$ probability of sucesses.The probability density for the binomial distribution is:[[8]](https://numpy.org/doc/stable/reference/random/generated/numpy.random.binomial.html)\n",
    "\n",
    "<img src=\"Images/Bin.PNG\" width=250 height=250/>\n",
    "\n"
   ]
  },
  {
   "cell_type": "markdown",
   "id": "2362a8ec-5f31-4090-bd69-b7ccd3755881",
   "metadata": {},
   "source": [
    "- $N$-Number of successes \n",
    "- $n$- Number of trials\n",
    "- $p$- Probability of success "
   ]
  },
  {
   "cell_type": "markdown",
   "id": "a6f35e50-6788-4bc7-976e-0bd75b8631f7",
   "metadata": {},
   "source": [
    "Lets take flipping a coin as an example of explaining this further. A coin has two sides, there is only two possible outcomes; heads or tails, and let say we want to know what is the probability of the coin flip being \"Heads\" when the coin is flipped 10 times independantly and tested over 1000 times, the probability of 1 coin flip is 50/50 so the probability of each trail in this instance is **0.5** "
   ]
  },
  {
   "cell_type": "code",
   "execution_count": 23,
   "id": "c7904e10-fb94-44cb-b3d4-c21076fd44ab",
   "metadata": {},
   "outputs": [],
   "source": [
    "n, p = 10, 0.5  # number of trials, probability of each trial\n",
    "s = np.random.binomial(n, p, 1000) # testing 1000 times "
   ]
  },
  {
   "cell_type": "code",
   "execution_count": 24,
   "id": "a94fe75a-f653-4595-bf8b-e719e292bde4",
   "metadata": {},
   "outputs": [
    {
     "data": {
      "text/plain": [
       "Text(0, 0.5, 'Probability')"
      ]
     },
     "execution_count": 24,
     "metadata": {},
     "output_type": "execute_result"
    },
    {
     "data": {
      "image/png": "[encoded data removed]",
      "text/plain": [
       "<Figure size 432x288 with 1 Axes>"
      ]
     },
     "metadata": {
      "needs_background": "light"
     },
     "output_type": "display_data"
    }
   ],
   "source": [
    "#plotting using seaborn library \n",
    "sns.histplot(s, binwidth=0.5) #plotting to include binwidth \n",
    "#histogram labels \n",
    "plt.title(\"Coin Flip\")\n",
    "plt.xlabel(\"No. Trials \")\n",
    "plt.ylabel (\"Probability\")"
   ]
  },
  {
   "cell_type": "markdown",
   "id": "169c7159-0a5d-431e-b009-f2515a9de760",
   "metadata": {},
   "source": [
    "As you can see from the above plot that each time the formula runs it returns a variant of in or around 250 within the mean 5 (no trials) which have landed on heads. Also showing a \"*Normal Distribution*\",  which you would expect given the probability of 0.5. in this instance."
   ]
  },
  {
   "cell_type": "markdown",
   "id": "35178c95-82c4-425e-98c7-b8f6c60675f2",
   "metadata": {},
   "source": [
    "<br>"
   ]
  },
  {
   "cell_type": "markdown",
   "id": "dda51e59-d407-424c-8e0f-72aca7c58d0c",
   "metadata": {},
   "source": [
    "**Geometric  Distribution**\n",
    "\n",
    "***"
   ]
  },
  {
   "cell_type": "markdown",
   "id": "c560863a-7bfe-4dd1-b58f-44dc1d08b258",
   "metadata": {},
   "source": [
    "The Geometric Distribution are bernoulli trails where there is one of two outcomes; success or failure. The purpose of the Geometric Distribution is to identify the number of trails needed to acheive the first success. Its uses a single parameter $p$ (success). Here is the probability function of this distribution; [[10]]((https://numpy.org/doc/stable/reference/random/generated/numpy.random.Generator.geometric.html)\n",
    "\n",
    "<img src=\"Images/Geo.PNG\" width=250 height=250/>\n",
    "\n",
    "This distribution differs to the binomical distribution mentioned above, as it relates to the probability as to when a sucess will appear and not the probability of how many times that success will appear. Both however are discrete probability distributions. \n",
    "\n",
    "Lets continue with our example of the coin flip to give a visualisation and comparison. \n"
   ]
  },
  {
   "cell_type": "code",
   "execution_count": 25,
   "id": "0564975b-b995-4f42-a4bb-7964542383f9",
   "metadata": {},
   "outputs": [
    {
     "data": {
      "text/plain": [
       "Text(0, 0.5, 'Success')"
      ]
     },
     "execution_count": 25,
     "metadata": {},
     "output_type": "execute_result"
    },
    {
     "data": {
      "image/png": "[encoded data removed]",
      "text/plain": [
       "<Figure size 432x288 with 1 Axes>"
      ]
     },
     "metadata": {
      "needs_background": "light"
     },
     "output_type": "display_data"
    }
   ],
   "source": [
    "# Coin Flip \n",
    "p = 0.5 # probability \n",
    "s = np.random.default_rng().geometric(p, 1000) # random generator of 1000\n",
    "plt.hist(s)\n",
    "plt.title(\"Coin Flip\")\n",
    "plt.xlabel(\"No. Trials \")\n",
    "plt.ylabel (\"Success\")"
   ]
  },
  {
   "cell_type": "markdown",
   "id": "63724235-3429-46ec-8aea-09e9f8c3ae47",
   "metadata": {},
   "source": [
    "As you can see above the Geometric Distribution is skewed to the right which shows that the probability of getting a success (heads) is highly likely to occur within the first independant flips of the coin."
   ]
  },
  {
   "cell_type": "markdown",
   "id": "0d56e39a-adf8-4c6d-85aa-f2a0a11cb490",
   "metadata": {},
   "source": [
    "<br>"
   ]
  },
  {
   "cell_type": "markdown",
   "id": "8624b101-1600-4e4f-9d3e-a28a974b0917",
   "metadata": {},
   "source": [
    "**Uniform Distribution**\n",
    "\n",
    "***"
   ]
  },
  {
   "cell_type": "markdown",
   "id": "a78e3033-d97f-48b8-be6a-18f6963f1bdd",
   "metadata": {},
   "source": [
    "The uniform distribution are samples of uniformly distributed over the half-open interval; low, high (includes low, but excludes high).[[11]](https://numpy.org/doc/stable/reference/random/generated/numpy.random.Generator.uniform.html) The Uniform distribution being discussed here is a  **continuous probability distribution** as is the Normal distribution mentioned above but differs to that of the **Discrete probability distribution** mentioned at the beginning of this notebook, under the section integars.\n",
    "\n",
    "What is the difference between continuous and discrete Uniform distributions? \n",
    "\n",
    "The answer is - an exact exertion; The continuous distribution describes an experiment where there is an arbitrary outcome that lies between certain bounds. The bounds are defined by the parameters, a and b, which are the minimum and maximum values[[12]](https://en.wikipedia.org/wiki/Continuous_uniform_distribution). The Discrete distribution is wherein a finite number of values are equally likely to be observed; every one of n values has equal probability 1/n. A simple example of the discrete uniform distribution is throwing a fair dice. The possible values are 1, 2, 3, 4, 5, 6, and each time the die is thrown the probability of a given score is 1/6 [[13]](https://en.wikipedia.org/wiki/Discrete_uniform_distribution)\n",
    "\n",
    "\n",
    "\n",
    "Here is the probability function of this distribution: [[11]](https://numpy.org/doc/stable/reference/random/generated/numpy.random.Generator.uniform.html)\n",
    "\n",
    "<img src=\"Images/Geo.PNG\" width=250 height=250/>\n"
   ]
  },
  {
   "cell_type": "markdown",
   "id": "322603de-a731-47f9-a34a-4de94366908f",
   "metadata": {},
   "source": [
    "Lets look at a visualisation of the sample data provided by the reference page noted above; "
   ]
  },
  {
   "cell_type": "code",
   "execution_count": 26,
   "id": "6335a40f-46d2-4a6e-910a-bd674adbca43",
   "metadata": {},
   "outputs": [
    {
     "data": {
      "text/plain": [
       "Text(0.5, 0, 'Min - Max value')"
      ]
     },
     "execution_count": 26,
     "metadata": {},
     "output_type": "execute_result"
    },
    {
     "data": {
      "image/png": "[encoded data removed]",
      "text/plain": [
       "<Figure size 432x288 with 1 Axes>"
      ]
     },
     "metadata": {
      "needs_background": "light"
     },
     "output_type": "display_data"
    }
   ],
   "source": [
    "# Generating samples between -1 , 0 over 10000 times \n",
    "s = np.random.default_rng().uniform(-1, 0, 10000)\n",
    "# simple seaborn plot\n",
    "sns.histplot(s)\n",
    "plt.axhline(400, color = \"r\") # adding red horizontial line \n",
    "plt.title(\"Sample Data\")\n",
    "plt.ylabel(\"Probability\")\n",
    "plt.xlabel (\"Min - Max value\")"
   ]
  },
  {
   "cell_type": "markdown",
   "id": "70201315-1355-4b05-b140-d415fb33a35e",
   "metadata": {},
   "source": [
    "As we can see the samples shown in the above plot, are equally likely to occur between the min and max values. "
   ]
  },
  {
   "cell_type": "markdown",
   "id": "f373114d-21f1-45db-8008-b09febc90aa0",
   "metadata": {},
   "source": [
    "<br>"
   ]
  },
  {
   "cell_type": "markdown",
   "id": "a5693e55-ca64-49de-913e-ace573fdef0d",
   "metadata": {},
   "source": [
    "**Poisson Distribution**\n",
    "\n",
    "***"
   ]
  },
  {
   "cell_type": "markdown",
   "id": "46d2a226-031f-47dc-a488-b461ba78c81e",
   "metadata": {},
   "source": [
    "The Poisson distribution is the limit of the binomial distribution for large N.[[14]](https://numpy.org/doc/stable/reference/random/generated/numpy.random.Generator.poisson.html) A reminder, large N is the number of success. In other words it is used to count the number of occurrences of an event in a given unit ie time, distance, area or volume. With each event being independent of the next. Poisson distribution is a discrete probability distribution.[[15]](https://en.wikipedia.org/wiki/Poisson_distribution)\n",
    "\n",
    "Here is the distribution function: \n",
    "\n",
    "<img src=\"Images/Poi.PNG\" width=250 height=250/>\n"
   ]
  },
  {
   "cell_type": "markdown",
   "id": "bc9bb066-d392-453e-883b-47d03645a63e",
   "metadata": {},
   "source": [
    "Let take a look at a visualisation [[15]](https://numpy.org/doc/stable/reference/random/generated/numpy.random.Generator.poisson.html)\n",
    "<br> \n",
    "Note the histogram (Fig.1) is skewed to the right. As the lambda increases the shape of the histogram changes and appears more more central (Fig.2)"
   ]
  },
  {
   "cell_type": "code",
   "execution_count": 27,
   "id": "f0154d05-fbbf-4c3c-b4b2-a07664345642",
   "metadata": {},
   "outputs": [
    {
     "data": {
      "text/plain": [
       "Text(0.5, 24.0, 'K - lambda')"
      ]
     },
     "execution_count": 27,
     "metadata": {},
     "output_type": "execute_result"
    },
    {
     "data": {
      "image/png": "[encoded data removed]",
      "text/plain": [
       "<Figure size 360x360 with 1 Axes>"
      ]
     },
     "metadata": {
      "needs_background": "light"
     },
     "output_type": "display_data"
    }
   ],
   "source": [
    "rng = np.random.default_rng() # random generator\n",
    "s = rng.poisson(lam = 5,  size = 10000) #Setting lambda\n",
    "#seaborn plotting \n",
    "sns.displot()\n",
    "count, bins, ignored = plt.hist(s, 14, density=True)\n",
    "#plot titles \n",
    "plt.title(\"Distribution Fig.1\")\n",
    "plt.ylabel(\"Probability\")\n",
    "plt.xlabel (\"K - lambda\")"
   ]
  },
  {
   "cell_type": "code",
   "execution_count": 28,
   "id": "df3e6694-ff63-402c-a7ad-83fb60af3953",
   "metadata": {},
   "outputs": [
    {
     "data": {
      "text/plain": [
       "Text(0.5, 24.0, 'K - lambda')"
      ]
     },
     "execution_count": 28,
     "metadata": {},
     "output_type": "execute_result"
    },
    {
     "data": {
      "image/png": "[encoded data removed]",
      "text/plain": [
       "<Figure size 360x360 with 1 Axes>"
      ]
     },
     "metadata": {
      "needs_background": "light"
     },
     "output_type": "display_data"
    }
   ],
   "source": [
    "rng = np.random.default_rng() # random generator\n",
    "s = rng.poisson(lam = 300,  size = 10000) # setting lambda to 300\n",
    "#seaborn plotting\n",
    "sns.displot()\n",
    "count, bins, ignored = plt.hist(s, 14, density=True, color  = \"g\")\n",
    "#plotting titles \n",
    "plt.title(\"Distribution Fig.2\")\n",
    "plt.ylabel(\"Probability\")\n",
    "plt.xlabel (\"K - lambda\")"
   ]
  },
  {
   "cell_type": "markdown",
   "id": "13c77551-f1da-41b7-b639-57fe3f624b2c",
   "metadata": {},
   "source": [
    "## **Seeds Function** \n",
    "\n",
    "***"
   ]
  },
  {
   "cell_type": "markdown",
   "id": "0ff4a697-f4bd-4b8f-9327-f4186d7cbd89",
   "metadata": {},
   "source": [
    "A random seed (or seed state, or just seed) is a number (or vector) used to initialize a pseudorandom number generator[[16]](https://en.wikipedia.org/wiki/Random_seed). Making a random number not so random after all. In the absence of numpy.random.seed the output is unpredictable whereas if used, the outcome is predictable. The random seed is the starting point of the algorithm. "
   ]
  },
  {
   "cell_type": "markdown",
   "id": "ffd01058-cef6-40be-a30c-072d8c790f06",
   "metadata": {},
   "source": [
    "Lets take a six sided dice as an example: [[17]](https://www.youtube.com/watch?v=8B1z3xwNy2s) [[1]](https://numpy.org/doc/stable/reference/random/index.html)"
   ]
  },
  {
   "cell_type": "markdown",
   "id": "65a8598f-da13-4c26-98fe-05a280123e4e",
   "metadata": {},
   "source": [
    "<img src=\"Images/Dic.PNG\" width=250 height=250/>"
   ]
  },
  {
   "cell_type": "code",
   "execution_count": 29,
   "id": "1c56d0e2-4c3f-4f7e-9ed9-77a04c9d8d7e",
   "metadata": {},
   "outputs": [
    {
     "name": "stdout",
     "output_type": "stream",
     "text": [
      "Output: [[3 2]\n",
      " [2 1]\n",
      " [6 4]]\n"
     ]
    }
   ],
   "source": [
    "# throwing a six sided dice \n",
    "rng = np.random.default_rng() # random generator\n",
    "x = rng.integers(1,7, size=[3, 2]) #low (inclusive),high exclucive applies (dice roll x2 )\n",
    "print(\"Output:\", x) "
   ]
  },
  {
   "cell_type": "markdown",
   "id": "b3a153d4-ebb5-4509-8335-85fd2404c04f",
   "metadata": {},
   "source": [
    "When running the above program each time the output is random and unpredictible however when the seed is set we create a pseudorandom output:"
   ]
  },
  {
   "cell_type": "code",
   "execution_count": 30,
   "id": "73f51e53-54b8-4578-9739-96def061cd7c",
   "metadata": {},
   "outputs": [
    {
     "name": "stdout",
     "output_type": "stream",
     "text": [
      "Output: [[6 4]\n",
      " [4 2]\n",
      " [2 1]]\n"
     ]
    }
   ],
   "source": [
    "# throwing a six sided dice \n",
    "rng = np.random.default_rng(seed=0) # random generator\n",
    "x = rng.integers(1,7, size=[3, 2]) #low (inclusive),high exclucive applies (dice roll x2)\n",
    "print(\"Output:\",x) "
   ]
  },
  {
   "cell_type": "markdown",
   "id": "ac9f7376-fec8-44d7-aade-20998696be6d",
   "metadata": {},
   "source": [
    "Running the above code again:"
   ]
  },
  {
   "cell_type": "code",
   "execution_count": 31,
   "id": "d7597212-5eaf-4970-90b6-ad3cdc334010",
   "metadata": {},
   "outputs": [
    {
     "name": "stdout",
     "output_type": "stream",
     "text": [
      "Output: [[6 4]\n",
      " [4 2]\n",
      " [2 1]]\n"
     ]
    }
   ],
   "source": [
    "rng = np.random.default_rng(seed=0)\n",
    "x = rng.integers(1,7, size=[3, 2]) \n",
    "print(\"Output:\",x) "
   ]
  },
  {
   "cell_type": "markdown",
   "id": "0a465827-4bb2-49b4-a7d9-bacd187e6eaf",
   "metadata": {},
   "source": [
    "When comparing the last two output results; they remain the same, this being the result when the seed is set. "
   ]
  },
  {
   "cell_type": "markdown",
   "id": "9dff93b6-92d6-42b0-8d8b-7454f5bc748f",
   "metadata": {},
   "source": [
    "<br>"
   ]
  },
  {
   "cell_type": "markdown",
   "id": "c39c261a-370e-41e9-9249-465f68b85776",
   "metadata": {},
   "source": [
    "**Generator Comparison**"
   ]
  },
  {
   "cell_type": "markdown",
   "id": "042e0020-dce5-48d7-aaee-38695565924c",
   "metadata": {},
   "source": [
    "Permuted Congruential Generator (64-bit, PCG64) vs Mersenne Twister (MT19937) [[18]](https://numpy.org/doc/stable/reference/random/bit_generators/mt19937.html) [[19]](https://numpy.org/doc/stable/reference/random/bit_generators/pcg64.html) [[20]](https://numpy.org/doc/stable/reference/random/performance.html)\n",
    "\n",
    "***"
   ]
  },
  {
   "cell_type": "markdown",
   "id": "401f1788-4aac-4cae-9d74-9532753f3804",
   "metadata": {},
   "source": [
    "Both PCG64 & MT19937 provides a capsule containing function pointers that produce doubles, and unsigned 32 and 64- bit integers.  The state of the PCG-64 RNG is represented by 2 128-bit unsigned integer, whereas The MT19937 state vector consists of a 624-element array of 32-bit unsigned integers plus a single integer value between 0 and 624 that indexes the current position within the main array.  \n",
    "\n",
    "The recommended generator to use is PCG64 as MT19937 fails some statical tests and its not a fast as modern PRNGs. Please refer to reference to view timing comparisons [[20]](https://numpy.org/doc/stable/reference/random/performance.html). \n"
   ]
  },
  {
   "cell_type": "markdown",
   "id": "3333f72a-cd12-4cd2-93e9-29bf01629605",
   "metadata": {},
   "source": [
    "<br>"
   ]
  },
  {
   "cell_type": "markdown",
   "id": "81de3f6b-aac8-445e-b1ca-f69cbbff0eea",
   "metadata": {},
   "source": [
    "## References "
   ]
  },
  {
   "cell_type": "markdown",
   "id": "66e144b2-e80b-4bcf-a71f-12ab13b1a646",
   "metadata": {},
   "source": [
    "[2] https://numpy.org/doc/stable/reference/random/generated/numpy.random.Generator.integers"
   ]
  },
  {
   "cell_type": "markdown",
   "id": "8b7269d2-0eac-4fcc-8097-9fd7f2364423",
   "metadata": {},
   "source": [
    "[3]https://numpy.org/doc/stable/reference/random/generated/numpy.random.Generator.random.html"
   ]
  },
  {
   "cell_type": "markdown",
   "id": "9b804b58-9d40-4f5b-afd2-6e0fc89caba1",
   "metadata": {},
   "source": [
    "[4]https://numpy.org/doc/stable/reference/random/generated/numpy.random.Generator.choice.html"
   ]
  },
  {
   "cell_type": "markdown",
   "id": "282f99b0-c0b4-4256-b21f-0ef5b4444791",
   "metadata": {},
   "source": [
    "[5]https://numpy.org/doc/stable/reference/random/generated/numpy.random.Generator.shuffle.html"
   ]
  },
  {
   "cell_type": "markdown",
   "id": "3be26fed-6db0-401e-a64d-3d538d57ebed",
   "metadata": {},
   "source": [
    "[6]https://numpy.org/doc/stable/reference/random/generated/numpy.random.Generator.permutation.html\n"
   ]
  },
  {
   "cell_type": "markdown",
   "id": "0b957fbc-a7d4-4c05-9918-9de43dbd21e6",
   "metadata": {},
   "source": [
    "[7]https://ch.mathworks.com/help/stats/normal-distribution.html"
   ]
  },
  {
   "cell_type": "markdown",
   "id": "73767c6a-3eb1-4de1-b050-aba2b56ecaca",
   "metadata": {},
   "source": [
    "[8] https://en.wikipedia.org/wiki/68%E2%80%9395%E2%80%9399.7_rule"
   ]
  },
  {
   "cell_type": "markdown",
   "id": "a57d0280-857f-413e-9efd-cc831812f696",
   "metadata": {},
   "source": [
    "[9] https://numpy.org/doc/stable/reference/random/generated/numpy.random.binomial.html"
   ]
  },
  {
   "cell_type": "markdown",
   "id": "90fd2be6-7d31-4e06-91e2-c693614d8c74",
   "metadata": {},
   "source": [
    "[10] https://numpy.org/doc/stable/reference/random/generated/numpy.random.Generator.geometric.html"
   ]
  },
  {
   "cell_type": "markdown",
   "id": "ab21843e-f1eb-44e0-ab9b-36eb14d9fd61",
   "metadata": {},
   "source": [
    "[11] https://numpy.org/doc/stable/reference/random/generated/numpy.random.Generator.uniform.html"
   ]
  },
  {
   "cell_type": "markdown",
   "id": "1dafaf6c-a8c8-443e-90e2-b76c30178c00",
   "metadata": {},
   "source": [
    "[12]https://en.wikipedia.org/wiki/Continuous_uniform_distribution"
   ]
  },
  {
   "cell_type": "markdown",
   "id": "b26b58ce-6f21-4666-8fa1-be50209980dc",
   "metadata": {},
   "source": [
    "[13]https://en.wikipedia.org/wiki/Discrete_uniform_distribution"
   ]
  },
  {
   "cell_type": "markdown",
   "id": "c82fe975-cb22-4fa8-a6fc-f338e65919bc",
   "metadata": {},
   "source": [
    "[14]https://numpy.org/doc/stable/reference/random/generated/numpy.random.Generator.poisson.html"
   ]
  },
  {
   "cell_type": "markdown",
   "id": "601cef9d-1553-4057-a04a-a4ee4480b524",
   "metadata": {},
   "source": [
    "[15]https://en.wikipedia.org/wiki/Poisson_distribution)"
   ]
  },
  {
   "cell_type": "markdown",
   "id": "8687ecfe-f578-407f-ac87-2cef787cb22e",
   "metadata": {},
   "source": [
    "[16]https://en.wikipedia.org/wiki/Random_seed"
   ]
  },
  {
   "cell_type": "markdown",
   "id": "bbaa78d0-6f82-444e-85fb-83975e3a725e",
   "metadata": {},
   "source": [
    "[17]https://www.youtube.com/watch?v=8B1z3xwNy2s"
   ]
  },
  {
   "cell_type": "markdown",
   "id": "8725b64c-d611-4c06-9b77-a2df3b6da65b",
   "metadata": {},
   "source": [
    "[18]https://numpy.org/doc/stable/reference/random/bit_generators/mt19937.html"
   ]
  },
  {
   "cell_type": "markdown",
   "id": "bb165bdc-e6bc-4ad1-bd90-ae47a577e9f0",
   "metadata": {},
   "source": [
    "[19]https://numpy.org/doc/stable/reference/random/bit_generators/pcg64.html"
   ]
  },
  {
   "cell_type": "markdown",
   "id": "2ad5bac4-8053-4869-ab33-c861694dcc05",
   "metadata": {},
   "source": [
    "[20]https://numpy.org/doc/stable/reference/random/performance.html"
   ]
  },
  {
   "cell_type": "markdown",
   "id": "a9a304ab-b2fa-4877-ba91-5cf18c3621a5",
   "metadata": {},
   "source": [
    "**END**"
   ]
  }
 ],
 "metadata": {
  "kernelspec": {
   "display_name": "Python 3",
   "language": "python",
   "name": "python3"
  },
  "language_info": {
   "codemirror_mode": {
    "name": "ipython",
    "version": 3
   },
   "file_extension": ".py",
   "mimetype": "text/x-python",
   "name": "python",
   "nbconvert_exporter": "python",
   "pygments_lexer": "ipython3",
   "version": "3.8.8"
  }
 },
 "nbformat": 4,
 "nbformat_minor": 5
}
