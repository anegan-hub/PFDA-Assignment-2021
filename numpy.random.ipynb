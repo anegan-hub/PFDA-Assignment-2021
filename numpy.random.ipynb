{
 "cells": [
  {
   "cell_type": "markdown",
   "id": "7c43be56-f26f-44ed-b43e-b11501d811e8",
   "metadata": {},
   "source": [
    "\n",
    "\n",
    "# Information on the numpy.random package\n",
    " Reference; NumPy v1.21 Manual: https://numpy.org/doc/stable/reference/random/index.html [1]\n",
    "\n",
    "![This is an image](https://upload.wikimedia.org/wikipedia/commons/thumb/3/31/NumPy_logo_2020.svg/512px-NumPy_logo_2020.svg.png)\n",
    "<br>\n"
   ]
  },
  {
   "cell_type": "markdown",
   "id": "12436b5b-1c12-4138-9ec1-1808beb92ff1",
   "metadata": {},
   "source": [
    "\n",
    "## **The overall purpose of the package**\n",
    "***"
   ]
  },
  {
   "cell_type": "markdown",
   "id": "ab0c2b65-450a-4b18-be9b-9ce0844144b2",
   "metadata": {},
   "source": [
    "   Numpy.random is a sub package of the Numpy Library. There are two combinations **Bit Generator** and **Generator**. This notebook will mainly focus on **Generator**. The package is used for generating sample random numerical data, shuffles existing data and draws samples based on a specified distribution. <br>\n",
    "\n",
    "I will be running through the following functions of numpy.random;<br> \n",
    "   - Simple random data \n",
    "   - Permutations \n",
    "   - A selection of Distributions\n",
    "   - Seed function <br>"
   ]
  },
  {
   "cell_type": "markdown",
   "id": "2ef6a7b2-c8d6-4964-915d-458e3a257c9d",
   "metadata": {},
   "source": [
    "## **Simple random data**\n",
    "***"
   ]
  },
  {
   "cell_type": "markdown",
   "id": "9d74e3bd-c471-4500-be35-5e22f3a0a8a7",
   "metadata": {},
   "source": [
    "Simple random data consists of the following; \n",
    "\n",
    "- *integers* \n",
    "- *random*\n",
    "- *choice*\n",
    "- *bytes*\n",
    "<br>"
   ]
  },
  {
   "cell_type": "markdown",
   "id": "f3ee7ace-98b2-490a-bbb2-e9dffdb6ecb4",
   "metadata": {},
   "source": [
    "Lets start with **integers**; returns random integers from low(incusive) to high (exclusive) or if endpoint=true, low (inclusive to high (inclusive).[1] "
   ]
  },
  {
   "cell_type": "code",
   "execution_count": 1,
   "id": "46e474cc-fa3c-42b7-be15-2bb011b82882",
   "metadata": {},
   "outputs": [],
   "source": [
    "# Importing libraries \n",
    "import numpy as np \n",
    "%matplotlib inline \n",
    "import matplotlib.pyplot as plt"
   ]
  },
  {
   "cell_type": "code",
   "execution_count": 2,
   "id": "1e8f1e5c-ef62-497b-b873-67d0382c3d6f",
   "metadata": {},
   "outputs": [
    {
     "name": "stdout",
     "output_type": "stream",
     "text": [
      "Output: [3 1 1 3 3 4 3 2 2 4]\n"
     ]
    }
   ],
   "source": [
    "# creating a varible \n",
    "rng = np.random.default_rng() # random generator\n",
    "#creating varible (x), inputting arguement(10)\n",
    "x = rng.integers(6, size=10) # generates an array size of 10 between 0-6 but not including 6\n",
    "print(\"Output:\",x) "
   ]
  },
  {
   "cell_type": "markdown",
   "id": "eac4315e-e4bf-4054-ba5c-acfa5b038bb7",
   "metadata": {},
   "source": [
    "                Visualization using a histogram            "
   ]
  },
  {
   "cell_type": "code",
   "execution_count": 3,
   "id": "01a1b9db-9b9b-4649-97eb-45b16b9b6a2f",
   "metadata": {},
   "outputs": [
    {
     "data": {
      "text/plain": [
       "Text(0.5, 1.0, 'Sample data (1)')"
      ]
     },
     "execution_count": 3,
     "metadata": {},
     "output_type": "execute_result"
    },
    {
     "data": {
      "image/png": "[encoded data removed]",
      "text/plain": [
       "<Figure size 432x288 with 1 Axes>"
      ]
     },
     "metadata": {
      "needs_background": "light"
     },
     "output_type": "display_data"
    }
   ],
   "source": [
    "plt.hist (x)\n",
    "plt.xlabel('Integer')\n",
    "plt.ylabel('Occurrences')\n",
    "plt.title ('Sample data (1)')"
   ]
  },
  {
   "cell_type": "code",
   "execution_count": 4,
   "id": "b36e96b1-e78b-441c-969e-0c531005df21",
   "metadata": {},
   "outputs": [
    {
     "name": "stdout",
     "output_type": "stream",
     "text": [
      "Output: [98 37 30 ... 54 94 41]\n"
     ]
    },
    {
     "data": {
      "text/plain": [
       "Text(0.5, 1.0, 'Sample data (2)')"
      ]
     },
     "execution_count": 4,
     "metadata": {},
     "output_type": "execute_result"
    },
    {
     "data": {
      "image/png": "[encoded data removed]",
      "text/plain": [
       "<Figure size 432x288 with 1 Axes>"
      ]
     },
     "metadata": {
      "needs_background": "light"
     },
     "output_type": "display_data"
    }
   ],
   "source": [
    "x = rng.integers(100, size=100000) # generates an array size of 100 between 0-100 but not including 100\n",
    "print(\"Output:\",x) \n",
    "#histogram\n",
    "plt.hist (x)\n",
    "plt.xlabel('Integer')\n",
    "plt.ylabel('Occurrences')\n",
    "plt.title ('Sample data (2)')"
   ]
  },
  {
   "cell_type": "markdown",
   "id": "30867ec4-1ce9-4fd2-9253-77cc40498f43",
   "metadata": {},
   "source": [
    "When using the integar function, as you can see it outputs a random number from low(inclusive) to high(exclusive).In the above examples I have input the argument of both 6 and 100 also changing the array on each histogram to show a clear comparison that when you are working with larger volumns of data, the integar function outputs are most likely to generate numbers with the same probability.<br>"
   ]
  },
  {
   "cell_type": "markdown",
   "id": "78aa56cf-1964-4c8f-8f34-cb3f15670b70",
   "metadata": {},
   "source": [
    "*Generating more than one array with upper and lower bounds* [2]\n",
    "***"
   ]
  },
  {
   "cell_type": "code",
   "execution_count": 28,
   "id": "8508aba6-9455-41fd-b86b-4b3533a3477e",
   "metadata": {},
   "outputs": [
    {
     "name": "stdout",
     "output_type": "stream",
     "text": [
      "Output: [[5 1]\n",
      " [3 3]\n",
      " [0 3]]\n"
     ]
    }
   ],
   "source": [
    "x = rng.integers(6, size=(3, 2)) # 3 arrays to include 2 integers between 0-6 exclusive of 6\n",
    "print(\"Output:\",(x)) "
   ]
  },
  {
   "cell_type": "markdown",
   "id": "07e55526-db01-440f-852b-7ecfdef95ddc",
   "metadata": {},
   "source": [
    "Generate a 1 x 3 array with 3 different upper bounds"
   ]
  },
  {
   "cell_type": "code",
   "execution_count": 6,
   "id": "4484e318-c24c-47a0-ab86-1547daf4b0fa",
   "metadata": {},
   "outputs": [
    {
     "name": "stdout",
     "output_type": "stream",
     "text": [
      "Output: [1 4 4]\n"
     ]
    }
   ],
   "source": [
    "x = rng.integers(1, [3, 5, 10])\n",
    "print(\"Output:\",(x)) "
   ]
  },
  {
   "cell_type": "markdown",
   "id": "1b6abc71-956e-4aea-99fb-b4876116c68e",
   "metadata": {},
   "source": [
    "Generate a 1 by 3 array with 3 different lower bounds"
   ]
  },
  {
   "cell_type": "code",
   "execution_count": 7,
   "id": "c7bb1bc1-aa19-4c7f-be9f-5dab23418c33",
   "metadata": {},
   "outputs": [
    {
     "name": "stdout",
     "output_type": "stream",
     "text": [
      "Output: [1 7 7]\n"
     ]
    }
   ],
   "source": [
    "x = rng.integers([1, 5, 7], 10)\n",
    "print(\"Output:\",(x)) "
   ]
  },
  {
   "cell_type": "markdown",
   "id": "c8993937-fcda-4c4d-850a-c9a7a9d00779",
   "metadata": {},
   "source": [
    "Generate a 2 by 4 array using broadcasting with dtype of uint8"
   ]
  },
  {
   "cell_type": "code",
   "execution_count": 8,
   "id": "3d4727a4-9367-4653-a3ed-171411f38580",
   "metadata": {},
   "outputs": [
    {
     "name": "stdout",
     "output_type": "stream",
     "text": [
      "Output: [[ 4  7  8  8]\n",
      " [13  6 14 19]]\n"
     ]
    }
   ],
   "source": [
    "x = rng.integers([1, 3, 5, 7], [[10], [20]], dtype=np.uint8)\n",
    "print(\"Output:\",(x)) "
   ]
  },
  {
   "cell_type": "markdown",
   "id": "3bf588a4-3197-436d-9361-ba100e6b7911",
   "metadata": {},
   "source": [
    "<br>"
   ]
  },
  {
   "cell_type": "markdown",
   "id": "fc33ab88-5a92-4552-80d8-44d5de253848",
   "metadata": {},
   "source": [
    "**Random**"
   ]
  },
  {
   "cell_type": "markdown",
   "id": "f7ac6195-8535-46bc-aa0e-5683e50e1faf",
   "metadata": {},
   "source": [
    "Random return random floats in the half-open interval (0.0, 1.0).[2]"
   ]
  },
  {
   "cell_type": "code",
   "execution_count": 18,
   "id": "8aaff5ee-c89d-4734-9c57-dbc3f3d879e2",
   "metadata": {},
   "outputs": [
    {
     "data": {
      "text/plain": [
       "0.13128517969303122"
      ]
     },
     "execution_count": 18,
     "metadata": {},
     "output_type": "execute_result"
    }
   ],
   "source": [
    "#creating variable rng for random generator \n",
    "rng = np.random.default_rng() # random generator \n",
    "rng.random() # outputs a random floating number"
   ]
  },
  {
   "cell_type": "markdown",
   "id": "76667f8f-62fc-45ee-bab7-00e8fd11bf44",
   "metadata": {},
   "source": [
    "Passing an argument; to  generate two arrays, 5 rows , 1 column of random floating numbers   "
   ]
  },
  {
   "cell_type": "code",
   "execution_count": 116,
   "id": "b7e2054f-a30b-4df8-a1f3-585a60f7034d",
   "metadata": {},
   "outputs": [
    {
     "data": {
      "text/plain": [
       "array([[[0.92433729],\n",
       "        [0.08698445],\n",
       "        [0.04716489],\n",
       "        [0.16633906],\n",
       "        [0.36033813]],\n",
       "\n",
       "       [[0.44965133],\n",
       "        [0.44303448],\n",
       "        [0.63402981],\n",
       "        [0.09857675],\n",
       "        [0.90603873]]])"
      ]
     },
     "execution_count": 116,
     "metadata": {},
     "output_type": "execute_result"
    }
   ],
   "source": [
    "rng.random ((2, 5, 1))"
   ]
  },
  {
   "cell_type": "markdown",
   "id": "621c09d3-376f-4f09-b121-0c2fb07126ec",
   "metadata": {},
   "source": [
    "Passing an argument; to generate two arrays, 5 rows , 1 column of random floating numbers from -5 to 0 [2]"
   ]
  },
  {
   "cell_type": "code",
   "execution_count": 12,
   "id": "6446a8b5-f5ae-4118-bbdd-3cab8165870b",
   "metadata": {},
   "outputs": [
    {
     "data": {
      "text/plain": [
       "array([[[-3.76522955],\n",
       "        [-3.24165233],\n",
       "        [-2.1947046 ],\n",
       "        [-3.69920522],\n",
       "        [-4.32827089]],\n",
       "\n",
       "       [[-4.37275406],\n",
       "        [-4.52003759],\n",
       "        [-2.96190208],\n",
       "        [-1.23315136],\n",
       "        [-2.2547818 ]]])"
      ]
     },
     "execution_count": 12,
     "metadata": {},
     "output_type": "execute_result"
    }
   ],
   "source": [
    " x = 5 * rng.random((2, 5, 1)) - 5"
   ]
  },
  {
   "cell_type": "markdown",
   "id": "0ba640c7-208f-41b8-9104-1f9cf41a0276",
   "metadata": {},
   "source": [
    "<br>"
   ]
  },
  {
   "cell_type": "markdown",
   "id": "6eb22af4-3458-4a02-ae34-32c9da52b122",
   "metadata": {},
   "source": [
    "**Choice**"
   ]
  },
  {
   "cell_type": "markdown",
   "id": "c2e925d6-e53a-4855-9202-15a2055eb376",
   "metadata": {},
   "source": [
    "Choice generates a random sample from a give array whether it be uniform or non uniform. [2] This function picks a random value from a list of values. "
   ]
  },
  {
   "cell_type": "code",
   "execution_count": 120,
   "id": "e616c8c8-b221-46e1-9ecf-b098d6a4d620",
   "metadata": {},
   "outputs": [
    {
     "data": {
      "text/plain": [
       "array([2, 0, 0], dtype=int64)"
      ]
     },
     "execution_count": 120,
     "metadata": {},
     "output_type": "execute_result"
    }
   ],
   "source": [
    "#uniform sample\n",
    "rng = np.random.default_rng() # random generator \n",
    "rng.choice (5,3)#Generate a uniform random sample from np.arange(5) of size 3:"
   ]
  },
  {
   "cell_type": "markdown",
   "id": "b6a41087-a604-407a-a050-6252299ec24b",
   "metadata": {},
   "source": [
    "Setting probability - from the sample below you can see between 0-4 (using 5 as the argument)the integar 1 is not likely to be selected, integars 2 and 4 are less likely to be selected compared to that of 0 and 3. "
   ]
  },
  {
   "cell_type": "code",
   "execution_count": 137,
   "id": "d6f79286-f418-437b-8f70-233f1aec7bd7",
   "metadata": {},
   "outputs": [
    {
     "data": {
      "text/plain": [
       "array([0, 4, 3], dtype=int64)"
      ]
     },
     "execution_count": 137,
     "metadata": {},
     "output_type": "execute_result"
    }
   ],
   "source": [
    "#non-uniform sample (p - must equal 1.0 as here we set the probability)\n",
    "rng.choice(5,3, p=[0.3, 0, 0.1, 0.5, 0.1])#Generate a non-uniform random sample from np.arange(5) of size 3:"
   ]
  },
  {
   "cell_type": "markdown",
   "id": "77db7f2d-effc-4e56-be45-b0cf26875045",
   "metadata": {},
   "source": [
    "You can also use the choice function when using the following type of list; "
   ]
  },
  {
   "cell_type": "code",
   "execution_count": 138,
   "id": "3e1a239c-5d69-43c7-8599-e267225a07c6",
   "metadata": {},
   "outputs": [
    {
     "data": {
      "text/plain": [
       "array([[['rabbit', 'rabbit', 'rabbit'],\n",
       "        ['rabbit', 'piglet', 'piglet'],\n",
       "        ['Christopher', 'Christopher', 'pooh']],\n",
       "\n",
       "       [['rabbit', 'rabbit', 'Christopher'],\n",
       "        ['piglet', 'Christopher', 'Christopher'],\n",
       "        ['piglet', 'pooh', 'Christopher']],\n",
       "\n",
       "       [['pooh', 'rabbit', 'Christopher'],\n",
       "        ['rabbit', 'Christopher', 'pooh'],\n",
       "        ['rabbit', 'piglet', 'Christopher']]], dtype='<U11')"
      ]
     },
     "execution_count": 138,
     "metadata": {},
     "output_type": "execute_result"
    }
   ],
   "source": [
    "aa_milne_arr = ['pooh', 'rabbit', 'piglet', 'Christopher']\n",
    "rng.choice(aa_milne_arr, size= (3,3,3)) # printing list to include 3 columns, rows and sets "
   ]
  },
  {
   "cell_type": "markdown",
   "id": "95f532bb-39eb-4125-acc1-bca16fcf9d79",
   "metadata": {},
   "source": [
    "<br>"
   ]
  },
  {
   "cell_type": "markdown",
   "id": "bf984ed1-106e-443c-a104-84ab01fc6b2c",
   "metadata": {},
   "source": []
  },
  {
   "cell_type": "markdown",
   "id": "711ed86c-59b1-4d7f-8cc5-8ba66c8d979f",
   "metadata": {},
   "source": []
  },
  {
   "cell_type": "code",
   "execution_count": null,
   "id": "173b89cf-1c8e-4496-937d-5ba4cefc2026",
   "metadata": {},
   "outputs": [],
   "source": []
  },
  {
   "cell_type": "code",
   "execution_count": null,
   "id": "1cdddd16-1f74-4ce0-952c-eca45772addd",
   "metadata": {},
   "outputs": [],
   "source": []
  },
  {
   "cell_type": "code",
   "execution_count": null,
   "id": "0b7eb9c7-2292-43de-a93d-629a2be7202c",
   "metadata": {},
   "outputs": [],
   "source": []
  },
  {
   "cell_type": "code",
   "execution_count": null,
   "id": "f00890bf-00b7-4787-9b70-1a578052352e",
   "metadata": {},
   "outputs": [],
   "source": []
  },
  {
   "cell_type": "code",
   "execution_count": null,
   "id": "419f9671-681e-4bd8-930f-d3f9ee4dbd6b",
   "metadata": {},
   "outputs": [],
   "source": []
  },
  {
   "cell_type": "code",
   "execution_count": null,
   "id": "75ddb059-41ff-44a3-b163-33e59af8efc8",
   "metadata": {},
   "outputs": [],
   "source": []
  },
  {
   "cell_type": "markdown",
   "id": "81de3f6b-aac8-445e-b1ca-f69cbbff0eea",
   "metadata": {},
   "source": [
    "## References "
   ]
  },
  {
   "cell_type": "markdown",
   "id": "66e144b2-e80b-4bcf-a71f-12ab13b1a646",
   "metadata": {},
   "source": [
    "[2] https://numpy.org/doc/stable/reference/random/generated/numpy.random.Generator.integers.html#numpy.random.Generator.integers "
   ]
  },
  {
   "cell_type": "code",
   "execution_count": null,
   "id": "ba1bc873-ac66-46a6-89ba-621bcad7c47a",
   "metadata": {},
   "outputs": [],
   "source": []
  }
 ],
 "metadata": {
  "kernelspec": {
   "display_name": "Python 3",
   "language": "python",
   "name": "python3"
  },
  "language_info": {
   "codemirror_mode": {
    "name": "ipython",
    "version": 3
   },
   "file_extension": ".py",
   "mimetype": "text/x-python",
   "name": "python",
   "nbconvert_exporter": "python",
   "pygments_lexer": "ipython3",
   "version": "3.8.8"
  }
 },
 "nbformat": 4,
 "nbformat_minor": 5
}
