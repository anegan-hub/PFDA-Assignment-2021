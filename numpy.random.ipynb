{
 "cells": [
  {
   "cell_type": "markdown",
   "id": "7c43be56-f26f-44ed-b43e-b11501d811e8",
   "metadata": {},
   "source": [
    "\n",
    "\n",
    "# Information on the numpy.random package\n",
    " Reference; NumPy v1.21 Manual: https://numpy.org/doc/stable/reference/random/index.html [1]\n",
    "\n",
    "![This is an image](https://upload.wikimedia.org/wikipedia/commons/thumb/3/31/NumPy_logo_2020.svg/512px-NumPy_logo_2020.svg.png)\n",
    "<br>\n"
   ]
  },
  {
   "cell_type": "markdown",
   "id": "12436b5b-1c12-4138-9ec1-1808beb92ff1",
   "metadata": {},
   "source": [
    "\n",
    "## **The overall purpose of the package**\n",
    "***"
   ]
  },
  {
   "cell_type": "markdown",
   "id": "ab0c2b65-450a-4b18-be9b-9ce0844144b2",
   "metadata": {},
   "source": [
    "   Numpy.random is a sub package of the Numpy Library. There are two combinations **Bit Generator** and **Generator**. This notebook will mainly focus on **Generator**. The package is used for generating sample random numerical data, shuffles existing data and draws samples based on a specified distribution. <br>\n",
    "\n",
    "I will be running through the following functions of numpy.random;<br> \n",
    "   - Simple random data \n",
    "   - Permutations \n",
    "   - A selection of Distributions\n",
    "   - Seed function <br>"
   ]
  },
  {
   "cell_type": "markdown",
   "id": "2ef6a7b2-c8d6-4964-915d-458e3a257c9d",
   "metadata": {},
   "source": [
    "## **Simple random data**\n",
    "***"
   ]
  },
  {
   "cell_type": "markdown",
   "id": "9d74e3bd-c471-4500-be35-5e22f3a0a8a7",
   "metadata": {},
   "source": [
    "Simple random data consists of the following; \n",
    "\n",
    "- *integers* \n",
    "- *random*\n",
    "- *choice*\n",
    "- *bytes*\n",
    "<br>"
   ]
  },
  {
   "cell_type": "markdown",
   "id": "f3ee7ace-98b2-490a-bbb2-e9dffdb6ecb4",
   "metadata": {},
   "source": [
    "Lets start with **integers**; returns random integers from low(incusive) to high (exclusive) or if endpoint=true, low (inclusive to high (inclusive).[[1]]( https://numpy.org/doc/stable/reference/random/index.html) "
   ]
  },
  {
   "cell_type": "code",
   "execution_count": 1,
   "id": "46e474cc-fa3c-42b7-be15-2bb011b82882",
   "metadata": {},
   "outputs": [],
   "source": [
    "# Importing libraries \n",
    "import numpy as np \n",
    "%matplotlib inline \n",
    "import matplotlib.pyplot as plt"
   ]
  },
  {
   "cell_type": "code",
   "execution_count": 2,
   "id": "1e8f1e5c-ef62-497b-b873-67d0382c3d6f",
   "metadata": {},
   "outputs": [
    {
     "name": "stdout",
     "output_type": "stream",
     "text": [
      "Output: [2 5 1 2 0 0 4 3 4 4]\n"
     ]
    }
   ],
   "source": [
    "# creating a varible \n",
    "rng = np.random.default_rng() # random generator\n",
    "#creating varible (x), inputting arguement(10)\n",
    "x = rng.integers(6, size=10) # generates an array size of 10 between 0-6 but not including 6\n",
    "print(\"Output:\",x) "
   ]
  },
  {
   "cell_type": "markdown",
   "id": "eac4315e-e4bf-4054-ba5c-acfa5b038bb7",
   "metadata": {},
   "source": [
    "                Visualization using a histogram            "
   ]
  },
  {
   "cell_type": "code",
   "execution_count": 3,
   "id": "01a1b9db-9b9b-4649-97eb-45b16b9b6a2f",
   "metadata": {},
   "outputs": [
    {
     "data": {
      "text/plain": [
       "Text(0.5, 1.0, 'Sample data (1)')"
      ]
     },
     "execution_count": 3,
     "metadata": {},
     "output_type": "execute_result"
    },
    {
     "data": {
      "image/png": "[encoded data removed]",
      "text/plain": [
       "<Figure size 432x288 with 1 Axes>"
      ]
     },
     "metadata": {
      "needs_background": "light"
     },
     "output_type": "display_data"
    }
   ],
   "source": [
    "plt.hist (x)\n",
    "plt.xlabel('Integer')\n",
    "plt.ylabel('Occurrences')\n",
    "plt.title ('Sample data (1)')"
   ]
  },
  {
   "cell_type": "code",
   "execution_count": 4,
   "id": "b36e96b1-e78b-441c-969e-0c531005df21",
   "metadata": {},
   "outputs": [
    {
     "name": "stdout",
     "output_type": "stream",
     "text": [
      "Output: [ 3  7 93 ... 12  9 16]\n"
     ]
    },
    {
     "data": {
      "text/plain": [
       "Text(0.5, 1.0, 'Sample data (2)')"
      ]
     },
     "execution_count": 4,
     "metadata": {},
     "output_type": "execute_result"
    },
    {
     "data": {
      "image/png": "[encoded data removed]",
      "text/plain": [
       "<Figure size 432x288 with 1 Axes>"
      ]
     },
     "metadata": {
      "needs_background": "light"
     },
     "output_type": "display_data"
    }
   ],
   "source": [
    "x = rng.integers(100, size=100000) # generates an array size of 100 between 0-100 but not including 100\n",
    "print(\"Output:\",x) \n",
    "#histogram\n",
    "plt.hist (x)\n",
    "plt.xlabel('Integer')\n",
    "plt.ylabel('Occurrences')\n",
    "plt.title ('Sample data (2)')"
   ]
  },
  {
   "cell_type": "markdown",
   "id": "30867ec4-1ce9-4fd2-9253-77cc40498f43",
   "metadata": {},
   "source": [
    "When using the integar function, as you can see it outputs a random number from low(inclusive) to high(exclusive).In the above examples I have input the argument of both 6 and 100 also changing the array on each histogram to show a clear comparison that when you are working with larger volumns of data, the integar function outputs are most likely to generate numbers with the same probability.<br>"
   ]
  },
  {
   "cell_type": "markdown",
   "id": "78aa56cf-1964-4c8f-8f34-cb3f15670b70",
   "metadata": {},
   "source": [
    "*Generating more than one array with upper and lower bounds* [[2]](https://numpy.org/doc/stable/reference/random/generated/numpy.random.Generator.integers.html#numpy.random.Generator.integers)\n",
    "***"
   ]
  },
  {
   "cell_type": "code",
   "execution_count": 5,
   "id": "8508aba6-9455-41fd-b86b-4b3533a3477e",
   "metadata": {},
   "outputs": [
    {
     "name": "stdout",
     "output_type": "stream",
     "text": [
      "Output: [[5 2]\n",
      " [0 5]\n",
      " [2 0]]\n"
     ]
    }
   ],
   "source": [
    "x = rng.integers(6, size=(3, 2)) # 3 arrays to include 2 integers between 0-6 exclusive of 6\n",
    "print(\"Output:\",(x)) "
   ]
  },
  {
   "cell_type": "markdown",
   "id": "07e55526-db01-440f-852b-7ecfdef95ddc",
   "metadata": {},
   "source": [
    "Generate a 1 x 3 array with 3 different upper bounds"
   ]
  },
  {
   "cell_type": "code",
   "execution_count": 6,
   "id": "4484e318-c24c-47a0-ab86-1547daf4b0fa",
   "metadata": {},
   "outputs": [
    {
     "name": "stdout",
     "output_type": "stream",
     "text": [
      "Output: [1 2 9]\n"
     ]
    }
   ],
   "source": [
    "x = rng.integers(1, [3, 5, 10])\n",
    "print(\"Output:\",(x)) "
   ]
  },
  {
   "cell_type": "markdown",
   "id": "1b6abc71-956e-4aea-99fb-b4876116c68e",
   "metadata": {},
   "source": [
    "Generate a 1 by 3 array with 3 different lower bounds"
   ]
  },
  {
   "cell_type": "code",
   "execution_count": 7,
   "id": "c7bb1bc1-aa19-4c7f-be9f-5dab23418c33",
   "metadata": {},
   "outputs": [
    {
     "name": "stdout",
     "output_type": "stream",
     "text": [
      "Output: [3 7 8]\n"
     ]
    }
   ],
   "source": [
    "x = rng.integers([1, 5, 7], 10)\n",
    "print(\"Output:\",(x)) "
   ]
  },
  {
   "cell_type": "markdown",
   "id": "c8993937-fcda-4c4d-850a-c9a7a9d00779",
   "metadata": {},
   "source": [
    "Generate a 2 by 4 array using broadcasting with dtype of uint8"
   ]
  },
  {
   "cell_type": "code",
   "execution_count": 8,
   "id": "3d4727a4-9367-4653-a3ed-171411f38580",
   "metadata": {},
   "outputs": [
    {
     "name": "stdout",
     "output_type": "stream",
     "text": [
      "Output: [[ 2  5  8  8]\n",
      " [15 19 13 17]]\n"
     ]
    }
   ],
   "source": [
    "x = rng.integers([1, 3, 5, 7], [[10], [20]], dtype=np.uint8)\n",
    "print(\"Output:\",(x)) "
   ]
  },
  {
   "cell_type": "markdown",
   "id": "3bf588a4-3197-436d-9361-ba100e6b7911",
   "metadata": {},
   "source": [
    "<br>"
   ]
  },
  {
   "cell_type": "markdown",
   "id": "fc33ab88-5a92-4552-80d8-44d5de253848",
   "metadata": {},
   "source": [
    "**Random**"
   ]
  },
  {
   "cell_type": "markdown",
   "id": "f7ac6195-8535-46bc-aa0e-5683e50e1faf",
   "metadata": {},
   "source": [
    "Random return random floats in the half-open interval (0.0, 1.0). [2]"
   ]
  },
  {
   "cell_type": "code",
   "execution_count": 9,
   "id": "8aaff5ee-c89d-4734-9c57-dbc3f3d879e2",
   "metadata": {},
   "outputs": [
    {
     "data": {
      "text/plain": [
       "0.5640467655487569"
      ]
     },
     "execution_count": 9,
     "metadata": {},
     "output_type": "execute_result"
    }
   ],
   "source": [
    "#creating variable rng for random generator \n",
    "rng = np.random.default_rng() # random generator \n",
    "rng.random() # outputs a random floating number"
   ]
  },
  {
   "cell_type": "markdown",
   "id": "76667f8f-62fc-45ee-bab7-00e8fd11bf44",
   "metadata": {},
   "source": [
    "Passing an argument; to  generate two arrays, 5 rows , 1 column of random floating numbers   "
   ]
  },
  {
   "cell_type": "code",
   "execution_count": 10,
   "id": "b7e2054f-a30b-4df8-a1f3-585a60f7034d",
   "metadata": {},
   "outputs": [
    {
     "data": {
      "text/plain": [
       "array([[[0.14150707],\n",
       "        [0.05868666],\n",
       "        [0.48181177],\n",
       "        [0.14337594],\n",
       "        [0.00557023]],\n",
       "\n",
       "       [[0.53206477],\n",
       "        [0.40246952],\n",
       "        [0.23111214],\n",
       "        [0.26420918],\n",
       "        [0.36147153]]])"
      ]
     },
     "execution_count": 10,
     "metadata": {},
     "output_type": "execute_result"
    }
   ],
   "source": [
    "rng.random ((2, 5, 1))"
   ]
  },
  {
   "cell_type": "markdown",
   "id": "621c09d3-376f-4f09-b121-0c2fb07126ec",
   "metadata": {},
   "source": [
    "Passing an argument; to generate two arrays, 5 rows , 1 column of random floating numbers from -5 to 0 [2]"
   ]
  },
  {
   "cell_type": "code",
   "execution_count": 11,
   "id": "6446a8b5-f5ae-4118-bbdd-3cab8165870b",
   "metadata": {},
   "outputs": [],
   "source": [
    " x = 5 * rng.random((2, 5, 1)) - 5"
   ]
  },
  {
   "cell_type": "markdown",
   "id": "0ba640c7-208f-41b8-9104-1f9cf41a0276",
   "metadata": {},
   "source": [
    "<br>"
   ]
  },
  {
   "cell_type": "markdown",
   "id": "6eb22af4-3458-4a02-ae34-32c9da52b122",
   "metadata": {},
   "source": [
    "**Choice**"
   ]
  },
  {
   "cell_type": "markdown",
   "id": "c2e925d6-e53a-4855-9202-15a2055eb376",
   "metadata": {},
   "source": [
    "Choice generates a random sample from a give array whether it be uniform or non uniform. [2] This function picks a random value from a list of values. "
   ]
  },
  {
   "cell_type": "code",
   "execution_count": 12,
   "id": "e616c8c8-b221-46e1-9ecf-b098d6a4d620",
   "metadata": {},
   "outputs": [
    {
     "data": {
      "text/plain": [
       "array([4, 1, 4], dtype=int64)"
      ]
     },
     "execution_count": 12,
     "metadata": {},
     "output_type": "execute_result"
    }
   ],
   "source": [
    "#uniform sample\n",
    "rng = np.random.default_rng() # random generator \n",
    "rng.choice (5,3)#Generate a uniform random sample from np.arange(5) of size 3:"
   ]
  },
  {
   "cell_type": "markdown",
   "id": "b6a41087-a604-407a-a050-6252299ec24b",
   "metadata": {},
   "source": [
    "Setting probability - from the sample below you can see between 0-4 (using 5 as the argument)the integar 1 is not likely to be selected, integars 2 and 4 are less likely to be selected compared to that of 0 and 3. "
   ]
  },
  {
   "cell_type": "code",
   "execution_count": 13,
   "id": "d6f79286-f418-437b-8f70-233f1aec7bd7",
   "metadata": {},
   "outputs": [
    {
     "data": {
      "text/plain": [
       "array([2, 3, 3], dtype=int64)"
      ]
     },
     "execution_count": 13,
     "metadata": {},
     "output_type": "execute_result"
    }
   ],
   "source": [
    "#non-uniform sample (p - must equal 1.0 as here we set the probability)\n",
    "rng.choice(5,3, p=[0.3, 0, 0.1, 0.5, 0.1])#Generate a non-uniform random sample from np.arange(5) of size 3:"
   ]
  },
  {
   "cell_type": "markdown",
   "id": "77db7f2d-effc-4e56-be45-b0cf26875045",
   "metadata": {},
   "source": [
    "You can also use the choice function when using the following type of list; "
   ]
  },
  {
   "cell_type": "code",
   "execution_count": 14,
   "id": "3e1a239c-5d69-43c7-8599-e267225a07c6",
   "metadata": {},
   "outputs": [
    {
     "data": {
      "text/plain": [
       "array([[['piglet', 'rabbit', 'piglet'],\n",
       "        ['Christopher', 'piglet', 'rabbit'],\n",
       "        ['piglet', 'rabbit', 'piglet']],\n",
       "\n",
       "       [['pooh', 'Christopher', 'Christopher'],\n",
       "        ['piglet', 'rabbit', 'piglet'],\n",
       "        ['piglet', 'rabbit', 'piglet']],\n",
       "\n",
       "       [['piglet', 'Christopher', 'pooh'],\n",
       "        ['piglet', 'rabbit', 'pooh'],\n",
       "        ['rabbit', 'pooh', 'Christopher']]], dtype='<U11')"
      ]
     },
     "execution_count": 14,
     "metadata": {},
     "output_type": "execute_result"
    }
   ],
   "source": [
    "aa_milne_arr = ['pooh', 'rabbit', 'piglet', 'Christopher']\n",
    "rng.choice(aa_milne_arr, size= (3,3,3)) # printing list to include 3 columns, rows and sets "
   ]
  },
  {
   "cell_type": "markdown",
   "id": "95f532bb-39eb-4125-acc1-bca16fcf9d79",
   "metadata": {},
   "source": [
    "<br>"
   ]
  },
  {
   "cell_type": "markdown",
   "id": "bf984ed1-106e-443c-a104-84ab01fc6b2c",
   "metadata": {},
   "source": [
    "## Permutations"
   ]
  },
  {
   "cell_type": "markdown",
   "id": "711ed86c-59b1-4d7f-8cc5-8ba66c8d979f",
   "metadata": {},
   "source": [
    "**Shuffle**\n",
    "<br>\n",
    "Modify an array or sequence in-place by shuffling its contents [2]"
   ]
  },
  {
   "cell_type": "code",
   "execution_count": 15,
   "id": "173b89cf-1c8e-4496-937d-5ba4cefc2026",
   "metadata": {},
   "outputs": [
    {
     "name": "stdout",
     "output_type": "stream",
     "text": [
      "Output: [0 5 1 8 3 9 2 7 4 6]\n"
     ]
    }
   ],
   "source": [
    "# shuffle intergar between 0-9\n",
    "rng = np.random.default_rng() #random generator \n",
    "arr = np.arange(10) # value 10\n",
    "rng.shuffle(arr) # shuffles array \n",
    "print (\"Output:\", arr)"
   ]
  },
  {
   "cell_type": "code",
   "execution_count": 16,
   "id": "1cdddd16-1f74-4ce0-952c-eca45772addd",
   "metadata": {},
   "outputs": [
    {
     "name": "stdout",
     "output_type": "stream",
     "text": [
      "Output: [[0 2 1]\n",
      " [3 5 4]\n",
      " [6 8 7]]\n"
     ]
    }
   ],
   "source": [
    "#Using reshape and axis \n",
    "arr = np.arange(9). reshape((3,3))\n",
    "rng.shuffle(arr, axis = 1)\n",
    "print (\"Output:\",arr)"
   ]
  },
  {
   "cell_type": "markdown",
   "id": "742e4f31-d9e3-4994-b83e-30d45a5caf28",
   "metadata": {},
   "source": [
    "Above by using \"reshape\" provides you with an array, here an array of 3. When the \"axis\" is included this will display in order of integar array, i.e lowest integars will always appear within the first array. "
   ]
  },
  {
   "cell_type": "markdown",
   "id": "927845b3-4ba9-4c6d-9f11-a9f29c7a141e",
   "metadata": {},
   "source": [
    "**Permutations**"
   ]
  },
  {
   "cell_type": "markdown",
   "id": "6752608c-1942-40e6-8ed6-7f00fd5fbefc",
   "metadata": {},
   "source": [
    "Randomly permute a sequence, or return a permuted range.[2]\n"
   ]
  },
  {
   "cell_type": "code",
   "execution_count": 17,
   "id": "b28592bf-4194-4a02-b055-18e899f89bbe",
   "metadata": {},
   "outputs": [
    {
     "name": "stdout",
     "output_type": "stream",
     "text": [
      "Output: [2 8 7 0 9 4 1 6 3 5]\n"
     ]
    }
   ],
   "source": [
    "#sequence range \n",
    "rng = np.random.default_rng() #random generator \n",
    "p = rng.permutation(10) #array of 10 integars between 0-9 which are arranged in several possible ways when re-run\n",
    "print (\"Output:\", p)"
   ]
  },
  {
   "cell_type": "code",
   "execution_count": 18,
   "id": "7f39d6af-0a1a-4699-b2b5-cddf572b0041",
   "metadata": {},
   "outputs": [
    {
     "name": "stdout",
     "output_type": "stream",
     "text": [
      "output: [ 2  5 16  1]\n"
     ]
    }
   ],
   "source": [
    "#permuted range \n",
    "rng = np.random.default_rng() # random generator\n",
    "p = rng.permutation([1, 2, 16, 5]) #array given \n",
    "print (\"output:\", p)"
   ]
  },
  {
   "cell_type": "markdown",
   "id": "ef6fef3b-dc28-4e91-b7fe-f780ee5178df",
   "metadata": {},
   "source": [
    "<br>"
   ]
  },
  {
   "cell_type": "markdown",
   "id": "21c45feb-a699-4958-97c8-60d377a0440e",
   "metadata": {},
   "source": [
    "\n",
    "## **Distributions**\n",
    "\n",
    "***"
   ]
  },
  {
   "cell_type": "markdown",
   "id": "a2201f12-74f6-46bd-9d70-3d09c19555b5",
   "metadata": {},
   "source": [
    "**Normal Distribution** "
   ]
  },
  {
   "cell_type": "markdown",
   "id": "0c42eb26-48e7-4bb1-9fad-07cfd4fd78ed",
   "metadata": {},
   "source": [
    "The normal distribution is one of the most commonly used distributions as it arises in many different variables in nature, take  height and weight as examples. It is also known as the bell shape curve because of it's characteristic shape, and as the Gaussian Distribution after **Johann Carl Friedrich Gauss** the german mathematician."
   ]
  },
  {
   "cell_type": "markdown",
   "id": "f5b526fd-41c6-4a23-9433-7082550ea034",
   "metadata": {},
   "source": [
    "It it made up of three Parameters: \n",
    "\n",
    "- **Mean** (centre of the distribution )\n",
    "- **Standard Deviation** (spread or width of the distribution) \n",
    "- **Output shape** ( sample - array ) \n",
    "\n",
    "Note the normal distribution is symmetric about the mean (mirror effect), with the mean determining the position of same. \n",
    "If a distribution differs to this, it is not a normal distribution. The larger the value the likely outcome of a normal distribution. The bell shape curve must also be in line with the Empirical Rule; 68.95.99.7 percentile. An Example of this will be shown below. "
   ]
  },
  {
   "cell_type": "markdown",
   "id": "3002e568-6dbf-4659-8894-cc75f379d6a6",
   "metadata": {},
   "source": [
    "Also noting the formula seen below \"**mu**\" equals Mean and \"**sigma**\" equals Standard Deviation \n"
   ]
  },
  {
   "cell_type": "markdown",
   "id": "9f2a1c73-15c8-4962-a440-320ed8d4143e",
   "metadata": {},
   "source": [
    "Formula:"
   ]
  },
  {
   "cell_type": "markdown",
   "id": "b3c3dea0-7e9b-437f-9352-bf442589d179",
   "metadata": {},
   "source": [
    "<img src=\"nd.PNG\" width=250 height=250/>"
   ]
  },
  {
   "cell_type": "markdown",
   "id": "362630a4-a1c0-4b87-9b10-282deebc866f",
   "metadata": {},
   "source": [
    "Let's take a look at a sample based on variable; height, using histogram illustrations through the liabrary Seaborn:"
   ]
  },
  {
   "cell_type": "code",
   "execution_count": 19,
   "id": "9ca83ed7-405b-4640-9637-639d10c25bac",
   "metadata": {},
   "outputs": [
    {
     "name": "stdout",
     "output_type": "stream",
     "text": [
      "Output: [3.13336095 6.37131491 5.45470772 4.36321361 5.56965432]\n"
     ]
    },
    {
     "data": {
      "text/plain": [
       "Text(0, 0.5, 'Frequency')"
      ]
     },
     "execution_count": 19,
     "metadata": {},
     "output_type": "execute_result"
    },
    {
     "data": {
      "image/png": "[encoded data removed]",
      "text/plain": [
       "<Figure size 432x288 with 1 Axes>"
      ]
     },
     "metadata": {
      "needs_background": "light"
     },
     "output_type": "display_data"
    }
   ],
   "source": [
    "import seaborn as sns \n",
    "\n",
    "mu , sigma = (5, 1) # setting mean and standard deviation \n",
    "d = np.random.normal(mu, sigma, 5) #generating 5 values for set mu and sigma\n",
    "                     \n",
    "print (\"Output:\", d) \n",
    "\n",
    "# creating seaborn histogram plot\n",
    "sns.histplot(d)\n",
    "plt.title (\" Sample - Height\")\n",
    "plt.xlabel(\"Standard Deviation\")\n",
    "plt.ylabel (\"Frequency\")"
   ]
  },
  {
   "cell_type": "markdown",
   "id": "be24535b-0425-4847-8cb2-5470986930b7",
   "metadata": {},
   "source": [
    "Looking at the plot above, taking the height of a population of 5, with 1 stardard deviation being 1 and the set average of 5 we can see the plot shows each person varying in height confirming the data is not a normal distribution, however when the values increase it tells another story:"
   ]
  },
  {
   "cell_type": "code",
   "execution_count": 20,
   "id": "39678a97-d4cb-43bc-89b6-6053602adff6",
   "metadata": {},
   "outputs": [
    {
     "name": "stdout",
     "output_type": "stream",
     "text": [
      "Output: [5.44896646 5.95582005 5.58608808 ... 4.652246   5.09212414 6.35953103]\n"
     ]
    },
    {
     "data": {
      "text/plain": [
       "Text(0, 0.5, 'Frequency')"
      ]
     },
     "execution_count": 20,
     "metadata": {},
     "output_type": "execute_result"
    },
    {
     "data": {
      "image/png": "[encoded data removed]",
      "text/plain": [
       "<Figure size 432x288 with 1 Axes>"
      ]
     },
     "metadata": {
      "needs_background": "light"
     },
     "output_type": "display_data"
    }
   ],
   "source": [
    "mu , sigma = (5.5, 0.5) # setting mean and standard deviation \n",
    "d = np.random.normal(mu, sigma, 20000) #generating 20000 values for set mu and sigma\n",
    "print (\"Output:\", d) \n",
    "\n",
    "# creating seaborn histogram plot\n",
    "sns.histplot(d, bins = 20, kde = True, color=\"green\") # kde - adding curve line, bins and label) \n",
    "plt.title (\" Sample - Height\")\n",
    "plt.xlabel(\"Standard Deviation\")\n",
    "plt.ylabel (\"Frequency\")"
   ]
  },
  {
   "cell_type": "markdown",
   "id": "6dd9379c-8b0e-4515-93a9-5738588e4efb",
   "metadata": {},
   "source": [
    "On the plot shown above I have increased the value to over 20k people setting the the mean to 5.5 with a standard deviation of 0.5. The ploy now shows a clear normal distribution; the data is clustered around the mean with the remaining data tappering off on either side. Here we can see the average height within a large size of the population is in or around 5.5 feet. "
   ]
  },
  {
   "cell_type": "markdown",
   "id": "b967e126-ee57-4ca0-ab82-645f55e36d1c",
   "metadata": {},
   "source": [
    "**Empirical Rule**:"
   ]
  },
  {
   "cell_type": "markdown",
   "id": "053aa34a-30b7-4863-9e03-15d2c6607c46",
   "metadata": {},
   "source": [
    "In statistics, the 68–95–99.7 rule, also known as the empirical rule, is a shorthand used to remember the percentage of values that lie within an interval estimate in a normal distribution: 68%, 95%, and 99.7% of the values lie within one, two, and three standard deviations of the mean, respectively [[5]](https://en.wikipedia.org/wiki/68%E2%80%9395%E2%80%9399.7_rule)"
   ]
  },
  {
   "cell_type": "markdown",
   "id": "d1d0282a-5476-4265-9d72-1c8fe294b97c",
   "metadata": {},
   "source": [
    "Lets take a look in the following example; "
   ]
  },
  {
   "cell_type": "code",
   "execution_count": 21,
   "id": "0a0caf5b-d3ca-4fdc-b188-58250059b295",
   "metadata": {},
   "outputs": [
    {
     "name": "stdout",
     "output_type": "stream",
     "text": [
      "Output: [6.21649897 4.00128068 5.04690219 ... 5.80624443 5.6363001  5.49132953]\n"
     ]
    },
    {
     "data": {
      "text/plain": [
       "Text(0, 0.5, 'Frequency')"
      ]
     },
     "execution_count": 21,
     "metadata": {},
     "output_type": "execute_result"
    },
    {
     "data": {
      "image/png": "[encoded data removed]",
      "text/plain": [
       "<Figure size 432x288 with 1 Axes>"
      ]
     },
     "metadata": {
      "needs_background": "light"
     },
     "output_type": "display_data"
    }
   ],
   "source": [
    "mu , sigma = (5.5, 0.5) # setting mean and standard deviation \n",
    "d = np.random.normal(mu, sigma, 20000) #generating 20000 values for set mu and sigma\n",
    "print (\"Output:\", d) \n",
    "\n",
    "# creating seaborn histogram plot\n",
    "sns.histplot(d) # kde - adding curve line, bins and label) \n",
    "\n",
    "#creating verical line for mean and standard deviation distributions\n",
    "plt.axvline(np.mean(d) + np.std(d), color =\"r\") # creating verical line for mean and standard deviation\n",
    "plt.axvline(np.mean(d) - np.std(d), color =\"r\")\n",
    "plt.axvline(np.mean(d) + np.std(d)*2, color =\"g\")\n",
    "plt.axvline(np.mean(d) - np.std(d)*2, color =\"g\")\n",
    "plt.axvline(np.mean(d) + np.std(d)*3, color =\"b\")\n",
    "plt.axvline(np.mean(d) - np.std(d)*3, color =\"b\")\n",
    "#creating title and labels  \n",
    "plt.title (\" Sample - Height\")\n",
    "plt.xlabel(\"Standard Deviation\")\n",
    "plt.ylabel (\"Frequency\")"
   ]
  },
  {
   "cell_type": "markdown",
   "id": "d601400c-440c-46c1-b9ac-d6884a74d9fe",
   "metadata": {},
   "source": [
    "From the above plot above we can see the distrubition by 1, 2 and 3 standard deviations away from the mean. The rule stats the following;  "
   ]
  },
  {
   "cell_type": "markdown",
   "id": "0bb63942-6f6f-4ff2-888a-5df2b6f48ed6",
   "metadata": {},
   "source": [
    "- **68%** must sit within one deviation from the mean ( this is represented on the plot between the <span style='color:red'> red </span> vertical lines ) \n",
    "- **95%** must sit within two deviations from the mean (this is represented on the plot between the <span style='color:green'> green </span>  vertical lines ) \n",
    "- **99.7%** must sit within three deviations from the mean (this is represented on the plot between the<span style='color:blue'> blue </span> vertical lines )\n",
    "\n",
    "Everything else that falls outside of this is extermely small, continuing to infinity "
   ]
  },
  {
   "cell_type": "code",
   "execution_count": null,
   "id": "5fd630d4-75b0-47ae-8ba4-bd5e0cf64628",
   "metadata": {},
   "outputs": [],
   "source": []
  },
  {
   "cell_type": "code",
   "execution_count": null,
   "id": "75ddb059-41ff-44a3-b163-33e59af8efc8",
   "metadata": {},
   "outputs": [],
   "source": []
  },
  {
   "cell_type": "markdown",
   "id": "81de3f6b-aac8-445e-b1ca-f69cbbff0eea",
   "metadata": {},
   "source": [
    "## References "
   ]
  },
  {
   "cell_type": "markdown",
   "id": "a2a56d2f-ec51-44ec-b576-b2e2bb9398dc",
   "metadata": {},
   "source": []
  },
  {
   "cell_type": "markdown",
   "id": "66e144b2-e80b-4bcf-a71f-12ab13b1a646",
   "metadata": {},
   "source": [
    "[2] https://numpy.org/doc/stable/reference/random/generated/numpy.random.Generator.integers.html#numpy.random.Generator.integers "
   ]
  },
  {
   "cell_type": "markdown",
   "id": "b738be8e-f00e-4658-826b-00ad278f1960",
   "metadata": {},
   "source": [
    "[3]https://ch.mathworks.com/help/stats/normal-distribution.html"
   ]
  },
  {
   "cell_type": "markdown",
   "id": "34d9c264-c29d-4f44-ba16-60dc769dfc3a",
   "metadata": {},
   "source": [
    "[4]https://www.youtube.com/watch?v=mtbJbDwqWLE"
   ]
  },
  {
   "cell_type": "markdown",
   "id": "73767c6a-3eb1-4de1-b050-aba2b56ecaca",
   "metadata": {},
   "source": [
    "[5] https://en.wikipedia.org/wiki/68%E2%80%9395%E2%80%9399.7_rule"
   ]
  },
  {
   "cell_type": "code",
   "execution_count": null,
   "id": "c3078cbb-3a60-4a88-9986-75d2e26faaa0",
   "metadata": {},
   "outputs": [],
   "source": []
  }
 ],
 "metadata": {
  "kernelspec": {
   "display_name": "Python 3",
   "language": "python",
   "name": "python3"
  },
  "language_info": {
   "codemirror_mode": {
    "name": "ipython",
    "version": 3
   },
   "file_extension": ".py",
   "mimetype": "text/x-python",
   "name": "python",
   "nbconvert_exporter": "python",
   "pygments_lexer": "ipython3",
   "version": "3.8.8"
  }
 },
 "nbformat": 4,
 "nbformat_minor": 5
}
